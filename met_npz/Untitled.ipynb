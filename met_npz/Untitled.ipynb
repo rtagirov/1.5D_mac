{
 "cells": [
  {
   "cell_type": "code",
   "execution_count": 1,
   "metadata": {
    "collapsed": true
   },
   "outputs": [],
   "source": [
    "import numpy as np\n",
    "from scipy.optimize import curve_fit\n",
    "\n",
    "def Limb_model(x,a1,a2,a3):\n",
    "    limb = 1. - a1*(1-x) - a2*(1-x**1.5) - a3*(1-x**2)\n",
    "\n",
    "    return limb\n",
    "\n",
    "def Teff1(intensity,wave,mu_indx):\n",
    "    # should probably shift more stuff into subroutines\n",
    "    \"\"\"\n",
    "    Input: \n",
    "    intensity='meanint'\n",
    "    wave='w'\n",
    "    mu_indx=[0,2,4,6,8]\n",
    "\n",
    "    Output: \n",
    "    effective temperature \n",
    "    \"\"\"\n",
    "    cl=2.9979e+08                   # speed of light in SI units\n",
    "    sig=5.67e-08                    # Stefan-Boltzmann in SI units\n",
    "    pi=2*np.arccos(0)\n",
    "\n",
    "    muext = np.arange(21)/20   # mu-grid for final integration, \n",
    "                               # assumption: input mu is [.2,.3,..,.9,1]\n",
    "\n",
    "    nw=intensity.shape[1]\n",
    "    # should have check here that nw is indeed wave.size\n",
    "    nmu=intensity.shape[0]\n",
    "    mu=0.2+np.arange(nmu)/10\n",
    "\n",
    "    imu=mu_indx.size        # not all mu values are filled, only imu of them\n",
    "    bolint=np.zeros(imu)\n",
    "    # integrate to get bolometric intensities\n",
    "    wv=1e-09*wave\n",
    "    for i in range(0,imu): \n",
    "        j = mu_indx[i]\n",
    "        intw=(0.001*cl/wv**2)*np.reshape(intensity[j,:],nw)\n",
    "        bolint[i]=np.trapz(intw,wv)\n",
    "\n",
    "\n",
    "    # normalise and fit\n",
    "    # y = bolint/bolint(imu-1)\n",
    "    np.savetxt('bolints',bolint)\n",
    "    init_vals = [1, 1, 0.5]\n",
    "    best_vals, covar = curve_fit(Limb_model,mu[mu_indx],bolint/bolint[imu-1], p0=init_vals)\n",
    "    np.savetxt('fitvals',best_vals)\n",
    "    # evaluate fitted bolometric intensities on new mugrid\n",
    "    boliext = Limb_model(muext,best_vals[0],best_vals[1],best_vals[2])\n",
    "    flx = bolint[imu-1]*np.trapz(boliext*muext,muext)\n",
    "    Teff1 = (2*pi*flx/sig)**0.25\n",
    "\n",
    "    return Teff1"
   ]
  },
  {
   "cell_type": "code",
   "execution_count": 11,
   "metadata": {
    "collapsed": false
   },
   "outputs": [],
   "source": [
    "import glob\n",
    "\n",
    "w = np.loadtxt('../runs/mpsa.wave')\n",
    "\n",
    "Nw = len(w)\n",
    "\n",
    "mu_indx = np.array([0, 2, 4, 6, 8])\n",
    "\n",
    "mh0_hyd_mean = glob.glob('./1D_mean/mh0-hyd_*')\n",
    "mh1_hyd_mean = glob.glob('./1D_mean/mh1-hyd_*')\n",
    "mh0_ssd_mean = glob.glob('./1D_mean/mh0-ssd_*')\n",
    "mh1_ssd_mean = glob.glob('./1D_mean/mh1-ssd_*')\n",
    "mh0_300_mean = glob.glob('./1D_mean/mh0-300_*')\n",
    "mh1_300_mean = glob.glob('./1D_mean/mh1-300_*')\n",
    "\n",
    "I0m0_mean = np.zeros((9, Nw))\n",
    "I0m1_mean = np.zeros((9, Nw))\n",
    "ISm0_mean = np.zeros((9, Nw))\n",
    "ISm1_mean = np.zeros((9, Nw))\n",
    "I3m0_mean = np.zeros((9, Nw))\n",
    "I3m1_mean = np.zeros((9, Nw))\n",
    "\n",
    "for f in mh0_hyd_mean: I0m0_mean += np.load(f)['I']\n",
    "for f in mh1_hyd_mean: I0m1_mean += np.load(f)['I']\n",
    "for f in mh0_ssd_mean: ISm0_mean += np.load(f)['I']\n",
    "for f in mh1_ssd_mean: ISm1_mean += np.load(f)['I']\n",
    "for f in mh0_300_mean: I3m0_mean += np.load(f)['I']\n",
    "for f in mh1_300_mean: I3m1_mean += np.load(f)['I']\n",
    "    \n",
    "I0m0_mean /= len(mh0_hyd_mean)\n",
    "I0m1_mean /= len(mh1_hyd_mean)\n",
    "ISm0_mean /= len(mh0_ssd_mean)\n",
    "ISm1_mean /= len(mh1_ssd_mean)"
   ]
  },
  {
   "cell_type": "code",
   "execution_count": 20,
   "metadata": {
    "collapsed": false
   },
   "outputs": [],
   "source": [
    "T0m0_mean = Teff1(I0m0_mean, w, mu_indx)\n",
    "T0m1_mean = Teff1(I0m1_mean, w, mu_indx)\n",
    "\n",
    "TSm0_mean = Teff1(ISm0_mean, w, mu_indx)\n",
    "TSm1_mean = Teff1(ISm1_mean, w, mu_indx)\n",
    "\n",
    "T3m0_mean = Teff1(I3m0_mean, w, mu_indx)\n",
    "T3m1_mean = Teff1(I3m1_mean, w, mu_indx)"
   ]
  },
  {
   "cell_type": "code",
   "execution_count": 21,
   "metadata": {
    "collapsed": false
   },
   "outputs": [
    {
     "name": "stdout",
     "output_type": "stream",
     "text": [
      "hydro, [Fe / H] = 0:  5531.495213458087\n",
      "hydro, [Fe / H] = -1:  5522.693954625227\n",
      "ssd, [Fe / H] = 0:  5552.196381995606\n",
      "ssd, [Fe / H] = -1:  5525.545221273979\n",
      "300G, [Fe / H] = 0:  5601.920765845529\n",
      "300G, [Fe / H] = -1:  5710.300043642289\n"
     ]
    }
   ],
   "source": [
    "print('hydro, [Fe / H] = 0: ',  T0m0_mean)\n",
    "print('hydro, [Fe / H] = -1: ', T0m1_mean)\n",
    "\n",
    "print('ssd, [Fe / H] = 0: ',  TSm0_mean)\n",
    "print('ssd, [Fe / H] = -1: ', TSm1_mean)\n",
    "\n",
    "print('300G, [Fe / H] = 0: ',  T3m0_mean)\n",
    "print('300G, [Fe / H] = -1: ', T3m1_mean)"
   ]
  },
  {
   "cell_type": "code",
   "execution_count": 22,
   "metadata": {
    "collapsed": true
   },
   "outputs": [],
   "source": [
    "mh0_hyd_medi = glob.glob('./1D_median/mh0-hyd_*')\n",
    "mh1_hyd_medi = glob.glob('./1D_median/mh1-hyd_*')\n",
    "mh0_ssd_medi = glob.glob('./1D_median/mh0-ssd_*')\n",
    "mh1_ssd_medi = glob.glob('./1D_median/mh1-ssd_*')\n",
    "mh0_300_medi = glob.glob('./1D_median/mh0-300_*')\n",
    "mh1_300_medi = glob.glob('./1D_median/mh1-300_*')\n",
    "\n",
    "I0m0_medi = np.zeros((9, Nw))\n",
    "I0m1_medi = np.zeros((9, Nw))\n",
    "ISm0_medi = np.zeros((9, Nw))\n",
    "ISm1_medi = np.zeros((9, Nw))\n",
    "I3m0_medi = np.zeros((9, Nw))\n",
    "I3m1_medi = np.zeros((9, Nw))\n",
    "\n",
    "for f in mh0_hyd_medi: I0m0_medi += np.load(f)['I']\n",
    "for f in mh1_hyd_medi: I0m1_medi += np.load(f)['I']\n",
    "for f in mh0_ssd_medi: ISm0_medi += np.load(f)['I']\n",
    "for f in mh1_ssd_medi: ISm1_medi += np.load(f)['I']\n",
    "for f in mh0_300_medi: I3m0_medi += np.load(f)['I']\n",
    "for f in mh1_300_medi: I3m1_medi += np.load(f)['I']\n",
    "    \n",
    "I0m0_medi /= len(mh0_hyd_medi)\n",
    "I0m1_medi /= len(mh1_hyd_medi)\n",
    "ISm0_medi /= len(mh0_ssd_medi)\n",
    "ISm1_medi /= len(mh1_ssd_medi)"
   ]
  },
  {
   "cell_type": "code",
   "execution_count": 23,
   "metadata": {
    "collapsed": true
   },
   "outputs": [],
   "source": [
    "T0m0_medi = Teff1(I0m0_medi, w, mu_indx)\n",
    "T0m1_medi = Teff1(I0m1_medi, w, mu_indx)\n",
    "\n",
    "TSm0_medi = Teff1(ISm0_medi, w, mu_indx)\n",
    "TSm1_medi = Teff1(ISm1_medi, w, mu_indx)\n",
    "\n",
    "T3m0_medi = Teff1(I3m0_medi, w, mu_indx)\n",
    "T3m1_medi = Teff1(I3m1_medi, w, mu_indx)"
   ]
  },
  {
   "cell_type": "code",
   "execution_count": 24,
   "metadata": {
    "collapsed": false
   },
   "outputs": [
    {
     "name": "stdout",
     "output_type": "stream",
     "text": [
      "hydro, [Fe / H] = 0:  5515.45610272446\n",
      "hydro, [Fe / H] = -1:  5490.439958818361\n",
      "ssd, [Fe / H] = 0:  5533.4958688583665\n",
      "ssd, [Fe / H] = -1:  5493.93435242986\n",
      "300G, [Fe / H] = 0:  5562.037875371054\n",
      "300G, [Fe / H] = -1:  5514.370244822776\n"
     ]
    }
   ],
   "source": [
    "print('hydro, [Fe / H] = 0: ',  T0m0_medi)\n",
    "print('hydro, [Fe / H] = -1: ', T0m1_medi)\n",
    "\n",
    "print('ssd, [Fe / H] = 0: ',  TSm0_medi)\n",
    "print('ssd, [Fe / H] = -1: ', TSm1_medi)\n",
    "\n",
    "print('300G, [Fe / H] = 0: ',  T3m0_medi)\n",
    "print('300G, [Fe / H] = -1: ', T3m1_medi)"
   ]
  },
  {
   "cell_type": "code",
   "execution_count": 48,
   "metadata": {
    "collapsed": false
   },
   "outputs": [
    {
     "data": {
      "image/png": "[encoded data removed]",
      "text/plain": [
       "<Figure size 720x360 with 1 Axes>"
      ]
     },
     "metadata": {},
     "output_type": "display_data"
    }
   ],
   "source": [
    "import matplotlib.pyplot as plt\n",
    "\n",
    "from matplotlib.ticker import FixedLocator\n",
    "\n",
    "mean_val = [T0m0_mean, T0m1_mean, TSm0_mean, TSm1_mean, T3m0_mean, T3m1_mean]\n",
    "medi_val = [T0m0_medi, T0m1_medi, TSm0_medi, TSm1_medi, T3m0_medi, T3m1_medi]\n",
    "\n",
    "fig, ax = plt.subplots(nrows= 1, ncols = 1, figsize = (10, 5))\n",
    "\n",
    "fig.canvas.draw()\n",
    "\n",
    "ax.scatter(np.arange(len(mean_val)) + 1, mean_val, label = 'mean')\n",
    "ax.scatter(np.arange(len(medi_val)) + 1, medi_val, label = 'median')\n",
    "\n",
    "ax.set_xlabel(r'Cube')\n",
    "ax.set_ylabel(r'$T_\\mathrm{eff}$, K')\n",
    "\n",
    "ax.set_xlim(0.5, 6.5)\n",
    "\n",
    "ax.xaxis.set_major_locator(FixedLocator([1, 2, 3, 4, 5, 6]))\n",
    "\n",
    "leg = ax.legend(framealpha = 1, loc = 2, handletextpad = 1, prop = {'size': 10.5})\n",
    "\n",
    "labels = ['hyd_mh0', 'hyd_mh1', 'ssd_mh0', 'ssd_mh1', '300G_mh0', '300G_mh1']\n",
    "\n",
    "ax.set_xticklabels(labels)\n",
    "\n",
    "plt.savefig('teff_mean_median.pdf', bbox_inches = 'tight')\n",
    "\n",
    "plt.show()"
   ]
  },
  {
   "cell_type": "code",
   "execution_count": null,
   "metadata": {
    "collapsed": true
   },
   "outputs": [],
   "source": []
  }
 ],
 "metadata": {
  "anaconda-cloud": {},
  "kernelspec": {
   "display_name": "Python [conda env:py3]",
   "language": "python",
   "name": "conda-env-py3-py"
  },
  "language_info": {
   "codemirror_mode": {
    "name": "ipython",
    "version": 3
   },
   "file_extension": ".py",
   "mimetype": "text/x-python",
   "name": "python",
   "nbconvert_exporter": "python",
   "pygments_lexer": "ipython3",
   "version": "3.6.13"
  }
 },
 "nbformat": 4,
 "nbformat_minor": 1
}
