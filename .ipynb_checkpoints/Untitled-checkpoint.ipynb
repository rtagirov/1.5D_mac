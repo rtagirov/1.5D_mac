{
 "cells": [
  {
   "cell_type": "code",
   "execution_count": null,
   "metadata": {
    "collapsed": false
   },
   "outputs": [
    {
     "name": "stdout",
     "output_type": "stream",
     "text": [
      "reading I0m0...\n",
      "reading I0m1...\n",
      "reading ISm0...\n",
      "reading ISm1...\n",
      "reading I3m0...\n"
     ]
    }
   ],
   "source": [
    "import numpy as np\n",
    "import matplotlib.pyplot as plt\n",
    "\n",
    "import glob\n",
    "import os\n",
    "\n",
    "from tqdm import tqdm\n",
    "\n",
    "import matplotlib.gridspec as gridspec\n",
    "from matplotlib.colorbar import Colorbar\n",
    "\n",
    "from matplotlib.ticker import AutoMinorLocator\n",
    "from matplotlib.ticker import MultipleLocator\n",
    "\n",
    "import sys\n",
    "\n",
    "w = np.loadtxt('./runs/mpsa.wave')\n",
    "\n",
    "Nw = len(w)\n",
    "\n",
    "mu = 10\n",
    "\n",
    "angle = str(mu / 10)\n",
    "\n",
    "#mh0_hyd = glob.glob('./npz_3D/mh0-hyd_*_' + str(mu) + '.npz')\n",
    "#mh1_hyd = glob.glob('./npz_3D/mh1-hyd_*_' + str(mu) + '.npz')\n",
    "#mh0_ssd = glob.glob('./npz_3D/mh0-ssd_*_' + str(mu) + '.npz')\n",
    "#mh1_ssd = glob.glob('./npz_3D/mh1-ssd_*_' + str(mu) + '.npz')\n",
    "#mh0_300 = glob.glob('./npz_3D/mh0-300_*_' + str(mu) + '.npz')\n",
    "#mh1_300 = glob.glob('./npz_3D/mh1-300_*_' + str(mu) + '.npz')\n",
    "\n",
    "#Nx = 512\n",
    "#Ny = 512\n",
    "\n",
    "#I0m0 = np.zeros((Nx, Ny, Nw))\n",
    "#I0m1 = np.zeros((Nx, Ny, Nw))\n",
    "#ISm0 = np.zeros((Nx, Ny, Nw))\n",
    "#ISm1 = np.zeros((Nx, Ny, Nw))\n",
    "#I3m0 = np.zeros((Nx, Ny, Nw))\n",
    "#I3m1 = np.zeros((Nx, Ny, Nw))\n",
    "\n",
    "#for f in mh0_hyd: I0m0 += np.load(f)['I']\n",
    "#for f in mh1_hyd: I0m1 += np.load(f)['I']\n",
    "#for f in mh0_ssd: ISm0 += np.load(f)['I']\n",
    "#for f in mh1_ssd: ISm1 += np.load(f)['I']\n",
    "#for f in mh0_300: I3m0 += np.load(f)['I']\n",
    "#for f in mh1_300: I3m1 += np.load(f)['I']\n",
    "\n",
    "#I0m0 /= len(mh0_hyd)\n",
    "#I0m1 /= len(mh1_hyd)\n",
    "#ISm0 /= len(mh0_ssd)\n",
    "#ISm1 /= len(mh1_ssd)\n",
    "\n",
    "#np.savez('./npz_3D/npz_3D_averaged/mh0-hyd_' + str(mu) + '.npz', I = I0m0)\n",
    "#np.savez('./npz_3D/npz_3D_averaged/mh1-hyd_' + str(mu) + '.npz', I = I0m1)\n",
    "#np.savez('./npz_3D/npz_3D_averaged/mh0-ssd_' + str(mu) + '.npz', I = ISm0)\n",
    "#np.savez('./npz_3D/npz_3D_averaged/mh1-ssd_' + str(mu) + '.npz', I = ISm1)\n",
    "#np.savez('./npz_3D/npz_3D_averaged/mh0-300_' + str(mu) + '.npz', I = I3m0)\n",
    "#np.savez('./npz_3D/npz_3D_averaged/mh1-300_' + str(mu) + '.npz', I = I3m1)\n",
    "\n",
    "mh0_hyd = glob.glob('./met_npz/1D_mean/mh0-hyd_*')\n",
    "mh1_hyd = glob.glob('./met_npz/1D_mean/mh1-hyd_*')\n",
    "mh0_ssd = glob.glob('./met_npz/1D_mean/mh0-ssd_*')\n",
    "mh1_ssd = glob.glob('./met_npz/1D_mean/mh1-ssd_*')\n",
    "mh0_300 = glob.glob('./met_npz/1D_mean/mh0-300_*')\n",
    "mh1_300 = glob.glob('./met_npz/1D_mean/mh1-300_*')\n",
    "\n",
    "I0m0_m = np.zeros((9, Nw))\n",
    "I0m1_m = np.zeros((9, Nw))\n",
    "ISm0_m = np.zeros((9, Nw))\n",
    "ISm1_m = np.zeros((9, Nw))\n",
    "I3m0_m = np.zeros((9, Nw))\n",
    "I3m1_m = np.zeros((9, Nw))\n",
    "\n",
    "for f in mh0_hyd: I0m0_m += np.load(f)['I']\n",
    "for f in mh1_hyd: I0m1_m += np.load(f)['I']\n",
    "for f in mh0_ssd: ISm0_m += np.load(f)['I']\n",
    "for f in mh1_ssd: ISm1_m += np.load(f)['I']\n",
    "for f in mh0_300: I3m0_m += np.load(f)['I']\n",
    "for f in mh1_300: I3m1_m += np.load(f)['I']\n",
    "    \n",
    "I0m0_m /= len(mh0_hyd)\n",
    "I0m1_m /= len(mh1_hyd)\n",
    "ISm0_m /= len(mh0_ssd)\n",
    "ISm1_m /= len(mh1_ssd)\n",
    "\n",
    "print('reading I0m0...')\n",
    "I0m0_f = np.load('./met_npz/3D/mh0-hyd_' + str(mu) + '.npz')['I'].reshape(512 * 512, 1221)\n",
    "print('reading I0m1...')\n",
    "I0m1_f = np.load('./met_npz/3D/mh1-hyd_' + str(mu) + '.npz')['I'].reshape(512 * 512, 1221)\n",
    "print('reading ISm0...')\n",
    "ISm0_f = np.load('./met_npz/3D/mh0-ssd_' + str(mu) + '.npz')['I'].reshape(512 * 512, 1221)\n",
    "print('reading ISm1...')\n",
    "ISm1_f = np.load('./met_npz/3D/mh1-ssd_' + str(mu) + '.npz')['I'].reshape(512 * 512, 1221)\n",
    "print('reading I3m0...')\n",
    "I3m0_f = np.load('./met_npz/3D/mh0-300_' + str(mu) + '.npz')['I'].reshape(512 * 512, 1221)\n",
    "print('reading I3m1...')\n",
    "I3m1_f = np.load('./met_npz/3D/mh1-300_' + str(mu) + '.npz')['I'].reshape(512 * 512, 1221)\n",
    "\n",
    "N_frac = 32768\n",
    "\n",
    "I0m0 = np.zeros((N_frac, 1221))\n",
    "I0m1 = np.zeros((N_frac, 1221))\n",
    "ISm0 = np.zeros((N_frac, 1221))\n",
    "ISm1 = np.zeros((N_frac, 1221))\n",
    "I3m0 = np.zeros((N_frac, 1221))\n",
    "I3m1 = np.zeros((N_frac, 1221))\n",
    "\n",
    "for i in tqdm(range(1221)):\n",
    "\n",
    "    I0m0[:, i] = np.random.choice(I0m0_f[:, i], size = N_frac, replace = False)\n",
    "    I0m1[:, i] = np.random.choice(I0m1_f[:, i], size = N_frac, replace = False)\n",
    "    ISm0[:, i] = np.random.choice(ISm0_f[:, i], size = N_frac, replace = False)\n",
    "    ISm1[:, i] = np.random.choice(ISm1_f[:, i], size = N_frac, replace = False)\n",
    "    I3m0[:, i] = np.random.choice(I3m0_f[:, i], size = N_frac, replace = False)\n",
    "    I3m1[:, i] = np.random.choice(I3m1_f[:, i], size = N_frac, replace = False)"
   ]
  },
  {
   "cell_type": "code",
   "execution_count": null,
   "metadata": {
    "collapsed": false
   },
   "outputs": [],
   "source": [
    "plt.hist(I0m0[:, 333] * 1e+6, bins = 200, color = 'k', histtype='step')\n",
    "#plt.hist(I0m1[:, 333] * 1e+6, bins = 200, color = 'k', histtype='step')\n",
    "\n",
    "plt.show()"
   ]
  },
  {
   "cell_type": "code",
   "execution_count": 15,
   "metadata": {
    "collapsed": false
   },
   "outputs": [
    {
     "data": {
      "text/plain": [
       "32768"
      ]
     },
     "execution_count": 15,
     "metadata": {},
     "output_type": "execute_result"
    }
   ],
   "source": [
    "len(I0m0[:, 333])"
   ]
  },
  {
   "cell_type": "code",
   "execution_count": null,
   "metadata": {
    "collapsed": true
   },
   "outputs": [],
   "source": []
  }
 ],
 "metadata": {
  "anaconda-cloud": {},
  "kernelspec": {
   "display_name": "Python [conda env:py3]",
   "language": "python",
   "name": "conda-env-py3-py"
  },
  "language_info": {
   "codemirror_mode": {
    "name": "ipython",
    "version": 3
   },
   "file_extension": ".py",
   "mimetype": "text/x-python",
   "name": "python",
   "nbconvert_exporter": "python",
   "pygments_lexer": "ipython3",
   "version": "3.6.13"
  }
 },
 "nbformat": 4,
 "nbformat_minor": 1
}
