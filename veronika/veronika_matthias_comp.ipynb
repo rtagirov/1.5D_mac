{
 "cells": [
  {
   "cell_type": "code",
   "execution_count": 6,
   "metadata": {
    "collapsed": false
   },
   "outputs": [],
   "source": [
    "import numpy as np\n",
    "\n",
    "Nx = 512\n",
    "Ny = 512\n",
    "Nz = 120\n",
    "\n",
    "def remove_zeros(I):\n",
    "    \n",
    "    for i in range(Nx * Ny):\n",
    "        \n",
    "        if I[i, 0] == 0.0:\n",
    "            \n",
    "            I[i, :] = I[i - 1, :]\n",
    "            \n",
    "    idx0 = np.where(I[:, 0] == 0.0)[0]\n",
    "\n",
    "    if len(idx0) != 0: print('zeros still present')\n",
    "            \n",
    "    return I\n",
    "\n",
    "Ils_v = np.load('./spec/G2V.ssd.222809.1.lte.10.npz')['I'].reshape(Nx * Ny, Nz)\n",
    "Ins_v = np.load('./spec/G2V.ssd.222809.1.nlte.10.npz')['I'].reshape(Nx * Ny, Nz)\n",
    "Il3_v = np.load('./spec/G2V.300G.627321.1.lte.10.npz')['I'].reshape(Nx * Ny, Nz)\n",
    "In3_v = np.load('./spec/G2V.300G.627321.1.nlte.10.npz')['I'].reshape(Nx * Ny, Nz)\n",
    "\n",
    "Ils_v = remove_zeros(Ils_v)\n",
    "Ins_v = remove_zeros(Ins_v)\n",
    "Il3_v = remove_zeros(Il3_v)\n",
    "In3_v = remove_zeros(In3_v)\n",
    "\n",
    "Ils_v_m = np.zeros(Nz)\n",
    "Ins_v_m = np.zeros(Nz)\n",
    "Il3_v_m = np.zeros(Nz)\n",
    "In3_v_m = np.zeros(Nz)\n",
    "\n",
    "for i in range(Nz):\n",
    "\n",
    "    Ils_v_m[i] = np.mean(Ils_v[:, i])\n",
    "    Ins_v_m[i] = np.mean(Ins_v[:, i])\n",
    "    \n",
    "    Il3_v_m[i] = np.mean(Il3_v[:, i])\n",
    "    In3_v_m[i] = np.mean(In3_v[:, i])\n",
    "    \n",
    "w = np.arange(1805, 3005, 10) / 10\n",
    "\n",
    "Ils_m_m = np.loadtxt('../mean_intensity.dat', usecols = [1])\n",
    "Ins_m_m = np.loadtxt('../mean_intensity.dat', usecols = [4])\n",
    "Il3_m_m = np.loadtxt('../mean_intensity.dat', usecols = [3])\n",
    "In3_m_m = np.loadtxt('../mean_intensity.dat', usecols = [6])"
   ]
  },
  {
   "cell_type": "code",
   "execution_count": 10,
   "metadata": {
    "collapsed": false
   },
   "outputs": [],
   "source": [
    "import matplotlib.pyplot as plt\n",
    "\n",
    "fig, ax = plt.subplots(ncols = 2, nrows = 1, figsize = (15, 5))\n",
    "\n",
    "ax[0].set_title('300G')\n",
    "ax[1].set_title('SSD')\n",
    "\n",
    "ax[0].plot(w, In3_v_m / Il3_v_m, label = 'veronika')\n",
    "ax[0].plot(w, In3_m_m / Il3_m_m, label = 'matthias')\n",
    "\n",
    "ax[1].plot(w, Ins_v_m / Ils_v_m, label = 'veronika')\n",
    "ax[1].plot(w, Ins_m_m / Ils_m_m, label = 'matthias')\n",
    "\n",
    "ax[0].set_xlabel('Wavelength, nm')\n",
    "ax[1].set_xlabel('Wavelength, nm')\n",
    "ax[0].set_ylabel('NLTE / LTE')\n",
    "\n",
    "leg = ax[0].legend(framealpha = 1, loc = 1, handletextpad = 1, prop = {'size': 12.5})\n",
    "\n",
    "plt.savefig('nlte_lte.pdf', bbox_inches='tight')\n",
    "\n",
    "#plt.show()"
   ]
  },
  {
   "cell_type": "code",
   "execution_count": 11,
   "metadata": {
    "collapsed": true
   },
   "outputs": [],
   "source": [
    "import matplotlib.pyplot as plt\n",
    "\n",
    "fig, ax = plt.subplots(ncols = 2, nrows = 1, figsize = (15, 5))\n",
    "\n",
    "ax[0].set_title('300G')\n",
    "ax[1].set_title('SSD')\n",
    "\n",
    "ax[0].plot(w, In3_v_m / In3_m_m, label = 'nlte')\n",
    "ax[0].plot(w, Il3_v_m / Il3_m_m, label = 'lte')\n",
    "\n",
    "ax[1].plot(w, Ins_v_m / Ins_m_m, label = 'nlte')\n",
    "ax[1].plot(w, Ils_v_m / Ils_m_m, label = 'lte')\n",
    "\n",
    "ax[0].set_xlabel('Wavelength, nm')\n",
    "ax[1].set_xlabel('Wavelength, nm')\n",
    "ax[0].set_ylabel('veronika / matthias')\n",
    "\n",
    "leg = ax[0].legend(framealpha = 1, loc = 4, handletextpad = 1, prop = {'size': 12.5})\n",
    "\n",
    "plt.savefig('veronika_matthias.pdf', bbox_inches='tight')"
   ]
  },
  {
   "cell_type": "code",
   "execution_count": 13,
   "metadata": {
    "collapsed": true
   },
   "outputs": [],
   "source": [
    "fig, ax = plt.subplots(ncols = 2, nrows = 1, figsize = (15, 5))\n",
    "\n",
    "ax[0].set_title('veronika')\n",
    "ax[1].set_title('matthias')\n",
    "\n",
    "ax[0].plot(w, In3_v_m / Ins_v_m, label = 'nlte')\n",
    "ax[0].plot(w, Il3_v_m / Ils_v_m, label = 'lte')\n",
    "\n",
    "ax[1].plot(w, In3_m_m / Ins_m_m, label = 'nlte')\n",
    "ax[1].plot(w, Il3_m_m / Ils_m_m, label = 'lte')\n",
    "\n",
    "ax[0].set_xlabel('Wavelength, nm')\n",
    "ax[1].set_xlabel('Wavelength, nm')\n",
    "ax[0].set_ylabel('300G / SSD')\n",
    "\n",
    "leg = ax[0].legend(framealpha = 1, loc = 1, handletextpad = 1, prop = {'size': 12.5})\n",
    "\n",
    "plt.savefig('contrasts.pdf', bbox_inches='tight')"
   ]
  },
  {
   "cell_type": "code",
   "execution_count": 18,
   "metadata": {
    "collapsed": true
   },
   "outputs": [],
   "source": [
    "fig, ax = plt.subplots(ncols = 1, nrows = 1, figsize = (15, 5))\n",
    "\n",
    "#ax[0].set_title('veronika')\n",
    "#ax[1].set_title('matthias')\n",
    "\n",
    "ax.plot(w, In3_v_m / Ins_v_m, label = 'nlte veronika', color = 'red')\n",
    "ax.plot(w, Il3_v_m / Ils_v_m, label = 'lte veronika', color = 'k')\n",
    "\n",
    "ax.plot(w, In3_m_m / Ins_m_m, label = 'nlte matthias', color = 'red', linestyle = '--')\n",
    "ax.plot(w, Il3_m_m / Ils_m_m, label = 'lte matthias', color = 'k', linestyle = '--')\n",
    "\n",
    "ax.set_xlabel('Wavelength, nm')\n",
    "#ax[1].set_xlabel('Wavelength, nm')\n",
    "ax.set_ylabel('300G / SSD')\n",
    "\n",
    "leg = ax.legend(framealpha = 1, loc = 1, handletextpad = 1, prop = {'size': 12.5})\n",
    "\n",
    "plt.savefig('contrasts_1p.pdf', bbox_inches='tight')"
   ]
  },
  {
   "cell_type": "code",
   "execution_count": null,
   "metadata": {
    "collapsed": true
   },
   "outputs": [],
   "source": []
  }
 ],
 "metadata": {
  "anaconda-cloud": {},
  "kernelspec": {
   "display_name": "Python [conda env:anaconda3]",
   "language": "python",
   "name": "conda-env-anaconda3-py"
  },
  "language_info": {
   "codemirror_mode": {
    "name": "ipython",
    "version": 3
   },
   "file_extension": ".py",
   "mimetype": "text/x-python",
   "name": "python",
   "nbconvert_exporter": "python",
   "pygments_lexer": "ipython3",
   "version": "3.5.6"
  }
 },
 "nbformat": 4,
 "nbformat_minor": 1
}
