{
 "cells": [
  {
   "cell_type": "code",
   "execution_count": 80,
   "id": "2e155e34",
   "metadata": {},
   "outputs": [],
   "source": [
    "import netCDF4\n",
    "import itertools\n",
    "\n",
    "from tqdm import tqdm\n",
    "\n",
    "Nx = 512\n",
    "Ny = 512\n",
    "Nz = 601\n",
    "Na = 5\n",
    "Ns = 25\n",
    "\n",
    "mu_id = ['10', '8', '6', '4', '2']\n",
    "\n",
    "T = np.zeros((Na, Nz, Ny * Nx))\n",
    "t = np.zeros((Na, Nz, Ny * Nx))\n",
    "\n",
    "T_ssd = np.zeros((Na, Nz, Ns))\n",
    "t_ssd = np.zeros((Na, Nz, Ns))\n",
    "\n",
    "T_300 = np.zeros((Na, Nz, Ns))\n",
    "t_300 = np.zeros((Na, Nz, Ns))\n",
    "\n",
    "for i in range(Na):\n",
    "    \n",
    "    T[i, :, :] = np.array(netCDF4.Dataset('./ssd/222809/' + mu_id[i] + '/T_onTau.222809.nc.1')['T']).reshape(Nz, Ny * Nx)\n",
    "    t[i, :, :] = np.array(netCDF4.Dataset('./ssd/222809/' + mu_id[i] + '/taugrid.222809.nc.1')['tau']).reshape(Nz, Ny * Nx)\n",
    "    \n",
    "    sample = np.random.choice(Nx * Ny, Ns, replace = False)\n",
    "    \n",
    "    T_ssd[i, :, :] = T[i, :, sample].T\n",
    "    t_ssd[i, :, :] = t[i, :, sample].T\n",
    "\n",
    "    T[i, :, :] = np.array(netCDF4.Dataset('./300G/627321/' + mu_id[i] + '/T_onTau.627321.nc.1')['T']).reshape(Nz, Ny * Nx)\n",
    "    t[i, :, :] = np.array(netCDF4.Dataset('./300G/627321/' + mu_id[i] + '/taugrid.627321.nc.1')['tau']).reshape(Nz, Ny * Nx)\n",
    "    \n",
    "    sample = np.random.choice(Nx * Ny, Ns, replace = False)\n",
    "    \n",
    "    T_300[i, :, :] = T[i, :, sample].T\n",
    "    t_300[i, :, :] = t[i, :, sample].T\n",
    "    \n",
    "    for k in range(Ns):\n",
    "        \n",
    "        for j in range(Nz - 1):\n",
    "            \n",
    "            delta = np.abs(np.log10(t_ssd[i, j, k]) - np.log10(t_ssd[i, j + 1, k]))\n",
    "        \n",
    "            if np.abs(delta - 0.0001) < 1e-6: T_ssd[i, j, k] = np.nan"
   ]
  },
  {
   "cell_type": "code",
   "execution_count": 85,
   "id": "f9b9c06b",
   "metadata": {
    "scrolled": true
   },
   "outputs": [],
   "source": [
    "import matplotlib.gridspec as gridspec\n",
    "\n",
    "props = dict(boxstyle = 'round', facecolor = 'wheat', alpha = 0.5)\n",
    "\n",
    "plt.rcParams.update({'font.size': 8})\n",
    "plt.rcParams[\"font.family\"] = 'Times New Roman'\n",
    "\n",
    "mus = ['1.0', '0.8', '0.6', '0.4', '0.2']\n",
    "\n",
    "fig = plt.figure(dpi = 300)\n",
    "\n",
    "fig.set_size_inches(10, 11.25, forward = True)\n",
    "\n",
    "fig.tight_layout()\n",
    "\n",
    "gs = gridspec.GridSpec(5, 3, width_ratios = [1, 1, 1], hspace = 0.03, wspace = 0.05)\n",
    "\n",
    "for i in range(5):\n",
    "\n",
    "    ssd = plt.subplot(gs[i, 0])\n",
    "    mag = plt.subplot(gs[i, 1])\n",
    "        \n",
    "    com = plt.subplot(gs[i, 2])\n",
    "    \n",
    "    ssd.set_xscale('log')\n",
    "    \n",
    "    for k in range(Ns):\n",
    "        \n",
    "        ssd.plot(t[i, :, k], T_ssd[i, :, k], color = 'gray')\n",
    "\n",
    "plt.savefig('intro_img_2.pdf', bbox_inches = 'tight')\n",
    "\n",
    "plt.close('all')"
   ]
  },
  {
   "cell_type": "code",
   "execution_count": 82,
   "id": "64ef92ff",
   "metadata": {},
   "outputs": [
    {
     "data": {
      "image/png": "[encoded data removed]",
      "text/plain": [
       "<Figure size 432x288 with 1 Axes>"
      ]
     },
     "metadata": {
      "needs_background": "light"
     },
     "output_type": "display_data"
    }
   ],
   "source": [
    "plt.plot(t[4, :, 0], T_ssd[4, :, 0])\n",
    "\n",
    "plt.xscale('log')\n",
    "\n",
    "plt.show()"
   ]
  },
  {
   "cell_type": "code",
   "execution_count": 77,
   "id": "e8da6fae",
   "metadata": {},
   "outputs": [
    {
     "data": {
      "text/plain": [
       "1.4195090650072784e-10"
      ]
     },
     "execution_count": 77,
     "metadata": {},
     "output_type": "execute_result"
    }
   ],
   "source": [
    "np.abs(np.log10(t[4, 599, 0]) - np.log10(t[4, 598, 0]) - 0.0001)"
   ]
  }
 ],
 "metadata": {
  "kernelspec": {
   "display_name": "Python 3 (ipykernel)",
   "language": "python",
   "name": "python3"
  },
  "language_info": {
   "codemirror_mode": {
    "name": "ipython",
    "version": 3
   },
   "file_extension": ".py",
   "mimetype": "text/x-python",
   "name": "python",
   "nbconvert_exporter": "python",
   "pygments_lexer": "ipython3",
   "version": "3.9.7"
  }
 },
 "nbformat": 4,
 "nbformat_minor": 5
}
