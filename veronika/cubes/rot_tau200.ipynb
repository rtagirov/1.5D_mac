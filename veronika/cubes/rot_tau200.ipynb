{
 "cells": [
  {
   "cell_type": "code",
   "execution_count": 1,
   "metadata": {
    "collapsed": true
   },
   "outputs": [],
   "source": [
    "import netCDF4\n",
    "import itertools\n",
    "\n",
    "from tqdm import tqdm\n",
    "\n",
    "Nx = 512\n",
    "Ny = 512\n",
    "Nz = 1000\n",
    "Na = 3\n",
    "Ns = Nx * Ny"
   ]
  },
  {
   "cell_type": "code",
   "execution_count": 2,
   "metadata": {
    "collapsed": true
   },
   "outputs": [],
   "source": [
    "import itertools\n",
    "\n",
    "from scipy import interpolate\n",
    "\n",
    "import sys\n",
    "\n",
    "def find_interpol_range(tau, Nz, Ns):\n",
    "\n",
    "    thick = 1e+20\n",
    "    thinn = 1e-20\n",
    "\n",
    "    for k in range(Ns):\n",
    "\n",
    "        opt_thick_end = tau[Nz - 1, k]\n",
    "#       opt_thinn_end = tau[0, k]\n",
    "        opt_thinn_end = tau[1, k]\n",
    "\n",
    "        if opt_thinn_end > thinn: thinn = opt_thinn_end\n",
    "        \n",
    "        if opt_thick_end < thick: thick = opt_thick_end\n",
    "    \n",
    "    return np.log10(thinn), np.log10(thick)\n",
    "\n",
    "def find_shortest_delta(tau, Nz, Ns):\n",
    "    \n",
    "    tau_1d = np.log10(tau.T).reshape(Nz * Ns)\n",
    "    \n",
    "    delta = np.abs(np.diff(tau_1d))\n",
    "    \n",
    "    idx_min = np.argmin(np.abs(delta - 0.001))\n",
    "            \n",
    "    return delta[idx_min]\n",
    "\n",
    "def const_interpol_grid(tau, Nz, Ns):\n",
    "    \n",
    "    thin, thick = find_interpol_range(tau, Nz, Ns)\n",
    "    delta =       find_shortest_delta(tau, Nz, Ns)\n",
    "    \n",
    "    Ng = int(np.floor(np.abs(thick - thin) / delta))\n",
    "    \n",
    "    grid = np.zeros(Ng)\n",
    "    \n",
    "    grid[0] = thin\n",
    "    \n",
    "    for i in range(Ng - 1): grid[i + 1] = grid[i] + delta\n",
    "    \n",
    "    return grid\n",
    "\n",
    "def interpol_and_average(i, target, tau, T, igrid, Ns):\n",
    "    \n",
    "    T_mean = np.zeros(len(igrid))\n",
    "    \n",
    "    for k in tqdm(range(Ns), desc = 'interpolate and average ' + target):\n",
    "    \n",
    "        f = interpolate.interp1d(np.log10(tau[:, k]), T[:, k])\n",
    "        \n",
    "        Ti = f(igrid)\n",
    "        \n",
    "        T_mean += Ti\n",
    "        \n",
    "    T_mean /= Ns\n",
    "    \n",
    "    return T_mean"
   ]
  },
  {
   "cell_type": "code",
   "execution_count": 3,
   "metadata": {
    "collapsed": false
   },
   "outputs": [
    {
     "name": "stdout",
     "output_type": "stream",
     "text": [
      "---------------\n",
      "mu =  10\n",
      "---------------\n",
      "SSD cube\n",
      "reading tau...\n",
      "sampling tau...\n",
      "reading temperature...\n"
     ]
    },
    {
     "name": "stderr",
     "output_type": "stream",
     "text": [
      "interpolate and average SSD temp: 100%|██████████| 262144/262144 [01:02<00:00, 4187.23it/s]\n"
     ]
    },
    {
     "name": "stdout",
     "output_type": "stream",
     "text": [
      "300G cube\n",
      "reading tau...\n",
      "sampling tau...\n",
      "reading temperature...\n"
     ]
    },
    {
     "name": "stderr",
     "output_type": "stream",
     "text": [
      "interpolate and average 300G temp: 100%|██████████| 262144/262144 [00:58<00:00, 4479.99it/s]\n"
     ]
    },
    {
     "name": "stdout",
     "output_type": "stream",
     "text": [
      "---------------\n",
      "mu =  6\n",
      "---------------\n",
      "SSD cube\n",
      "reading tau...\n",
      "sampling tau...\n",
      "reading temperature...\n"
     ]
    },
    {
     "name": "stderr",
     "output_type": "stream",
     "text": [
      "interpolate and average SSD temp: 100%|██████████| 262144/262144 [01:08<00:00, 3812.61it/s]\n"
     ]
    },
    {
     "name": "stdout",
     "output_type": "stream",
     "text": [
      "300G cube\n",
      "reading tau...\n",
      "sampling tau...\n",
      "reading temperature...\n"
     ]
    },
    {
     "name": "stderr",
     "output_type": "stream",
     "text": [
      "interpolate and average 300G temp: 100%|██████████| 262144/262144 [01:02<00:00, 4179.46it/s]\n"
     ]
    },
    {
     "name": "stdout",
     "output_type": "stream",
     "text": [
      "---------------\n",
      "mu =  2\n",
      "---------------\n",
      "SSD cube\n",
      "reading tau...\n",
      "sampling tau...\n",
      "reading temperature...\n"
     ]
    },
    {
     "name": "stderr",
     "output_type": "stream",
     "text": [
      "interpolate and average SSD temp: 100%|██████████| 262144/262144 [02:20<00:00, 1872.19it/s]\n"
     ]
    },
    {
     "name": "stdout",
     "output_type": "stream",
     "text": [
      "300G cube\n",
      "reading tau...\n",
      "sampling tau...\n",
      "reading temperature...\n"
     ]
    },
    {
     "name": "stderr",
     "output_type": "stream",
     "text": [
      "interpolate and average 300G temp: 100%|██████████| 262144/262144 [03:33<00:00, 1229.45it/s]\n"
     ]
    },
    {
     "ename": "NameError",
     "evalue": "name 'grid_300' is not defined",
     "output_type": "error",
     "traceback": [
      "\u001b[0;31m---------------------------------------------------------------------------\u001b[0m",
      "\u001b[0;31mNameError\u001b[0m                                 Traceback (most recent call last)",
      "\u001b[0;32m<ipython-input-3-b4806462f5d5>\u001b[0m in \u001b[0;36m<module>\u001b[0;34m()\u001b[0m\n\u001b[1;32m     85\u001b[0m     \u001b[0mTi_mag\u001b[0m\u001b[0;34m[\u001b[0m\u001b[0mi\u001b[0m\u001b[0;34m,\u001b[0m \u001b[0;34m:\u001b[0m \u001b[0mlen\u001b[0m\u001b[0;34m(\u001b[0m\u001b[0mT_mean\u001b[0m\u001b[0;34m)\u001b[0m\u001b[0;34m]\u001b[0m \u001b[0;34m=\u001b[0m \u001b[0mT_mean\u001b[0m\u001b[0;34m\u001b[0m\u001b[0;34m\u001b[0m\u001b[0m\n\u001b[1;32m     86\u001b[0m \u001b[0;34m\u001b[0m\u001b[0m\n\u001b[0;32m---> 87\u001b[0;31m \u001b[0mnp\u001b[0m\u001b[0;34m.\u001b[0m\u001b[0msavez\u001b[0m\u001b[0;34m(\u001b[0m\u001b[0;34m'tau200_rot_interpol'\u001b[0m\u001b[0;34m,\u001b[0m \u001b[0mgrid_ssd\u001b[0m \u001b[0;34m=\u001b[0m \u001b[0mgrid_ssd\u001b[0m\u001b[0;34m,\u001b[0m \u001b[0mTi_ssd\u001b[0m \u001b[0;34m=\u001b[0m \u001b[0mTi_ssd\u001b[0m\u001b[0;34m,\u001b[0m                                \u001b[0mgrid_300\u001b[0m \u001b[0;34m=\u001b[0m \u001b[0mgrid_300\u001b[0m\u001b[0;34m,\u001b[0m \u001b[0mTi_300\u001b[0m \u001b[0;34m=\u001b[0m \u001b[0mTi_300\u001b[0m\u001b[0;34m)\u001b[0m\u001b[0;34m\u001b[0m\u001b[0;34m\u001b[0m\u001b[0m\n\u001b[0m",
      "\u001b[0;31mNameError\u001b[0m: name 'grid_300' is not defined"
     ]
    }
   ],
   "source": [
    "mu_id = ['10', '6', '2']\n",
    "\n",
    "T_ssd =    np.ones((Na, Nz, Ns)) * np.nan\n",
    "t200_ssd = np.ones((Na, Nz, Ns)) * np.nan\n",
    "\n",
    "T_mag =    np.ones((Na, Nz, Ns)) * np.nan\n",
    "t200_mag = np.ones((Na, Nz, Ns)) * np.nan\n",
    "\n",
    "grid_ssd = np.ones((Na, 110000)) * np.nan\n",
    "grid_mag = np.ones((Na, 110000)) * np.nan\n",
    "\n",
    "Ti_ssd =   np.ones((Na, 110000)) * np.nan\n",
    "Ti_mag =   np.ones((Na, 110000)) * np.nan\n",
    "\n",
    "for i in range(Na):\n",
    "    \n",
    "    print(\"---------------\")\n",
    "    print('mu = ', mu_id[i])\n",
    "    print(\"---------------\")\n",
    "    \n",
    "    if i == 0:           mu_mod = mu_id[i]\n",
    "    \n",
    "    if i == 1 or i == 2: mu_mod = '0' + mu_id[i]    \n",
    "    \n",
    "    print('SSD cube')\n",
    "    \n",
    "    sample = np.random.choice(Nx * Ny, Ns, replace = False)\n",
    "    \n",
    "    print('reading tau...')\n",
    "    \n",
    "    t200 = np.array(netCDF4.Dataset('./rot_tau200/222809_mu_' + mu_mod + '/result_ttau200.222809.nc')['tau'])\n",
    "    \n",
    "    Nz_cur = len(t200[:, 0, 0])\n",
    "    \n",
    "    t200_ssd[i, : Nz_cur, :] = t200.reshape(Nz_cur, Ny * Nx)\n",
    "    \n",
    "    if i == 1 or i == 2: t200_ssd[i, 0, :] = 1e-15\n",
    "    \n",
    "    print('sampling tau...')\n",
    "    tau = t200_ssd[i, : Nz_cur, sample].T\n",
    "    \n",
    "    grid = const_interpol_grid(tau, Nz_cur, Ns)\n",
    "    \n",
    "    grid_ssd[i, : len(grid)] = 10.0**grid\n",
    "    \n",
    "    print('reading temperature...')\n",
    "    \n",
    "    T = np.array(netCDF4.Dataset('./rot_tau200/222809_mu_' + mu_mod + '/T_mu_' + mu_id[i] + '.222809.nc')['T'])\n",
    "    \n",
    "    T_ssd[i, : Nz_cur, :] = T.reshape(Nz_cur, Ny * Nx)\n",
    "    \n",
    "    T_mean = interpol_and_average(i, 'SSD temp', tau, T_ssd[i, : Nz_cur, sample].T, grid, Ns)\n",
    "\n",
    "    Ti_ssd[i, : len(T_mean)] = T_mean\n",
    "    \n",
    "    print('300G cube')\n",
    "    \n",
    "    sample = np.random.choice(Nx * Ny, Ns, replace = False)\n",
    "    \n",
    "    print('reading tau...')\n",
    "    \n",
    "    t200 = np.array(netCDF4.Dataset('./rot_tau200/627321_mu_' + mu_mod + '/result_ttau200.627321.nc')['tau'])\n",
    "    \n",
    "    Nz_cur = len(t200[:, 0, 0])\n",
    "    \n",
    "    t200_mag[i, : Nz_cur, :] = t200.reshape(Nz_cur, Ny * Nx)\n",
    "    \n",
    "    if i == 1 or i == 2: t200_mag[i, 0, :] = 1e-15\n",
    "    \n",
    "    print('sampling tau...')\n",
    "    tau = t200_mag[i, : Nz_cur, sample].T\n",
    "    \n",
    "    grid = const_interpol_grid(tau, Nz_cur, Ns)\n",
    "    \n",
    "    grid_mag[i, : len(grid)] = 10.0**grid\n",
    "    \n",
    "    print('reading temperature...')\n",
    "    \n",
    "    T = np.array(netCDF4.Dataset('./rot_tau200/627321_mu_' + mu_mod + '/T_mu_' + mu_id[i] + '.627321.nc')['T'])\n",
    "    \n",
    "    T_mag[i, : Nz_cur, :] = T.reshape(Nz_cur, Ny * Nx)\n",
    "    \n",
    "    T_mean = interpol_and_average(i, '300G temp', tau, T_mag[i, : Nz_cur, sample].T, grid, Ns)\n",
    "\n",
    "    Ti_mag[i, : len(T_mean)] = T_mean\n",
    "    \n",
    "np.savez('tau200_rot_interpol', grid_ssd = grid_ssd, Ti_ssd = Ti_ssd,\\\n",
    "                                grid_mag = grid_mag, Ti_mag = Ti_mag)"
   ]
  },
  {
   "cell_type": "code",
   "execution_count": 1,
   "metadata": {
    "collapsed": false
   },
   "outputs": [
    {
     "name": "stdout",
     "output_type": "stream",
     "text": [
      "Reading angle 10...\n",
      "Reading angle 06...\n",
      "Reading angle 02...\n"
     ]
    }
   ],
   "source": [
    "import netCDF4\n",
    "\n",
    "from tqdm import tqdm\n",
    "\n",
    "Na = 3\n",
    "Nz = 1000\n",
    "Nx = 512\n",
    "Ny = 512\n",
    "\n",
    "T_ssd =      np.ones((Na, Nz, Ny * Nx)) * np.nan\n",
    "tau200_ssd = np.ones((Na, Nz, Ny * Nx)) * np.nan\n",
    "\n",
    "T_mag =      np.ones((Na, Nz, Ny * Nx)) * np.nan\n",
    "tau200_mag = np.ones((Na, Nz, Ny * Nx)) * np.nan\n",
    "\n",
    "mu = ['10', '6', '2']\n",
    "\n",
    "for i in range(Na):\n",
    "    \n",
    "    if i == 0:           mu_mod = mu[i]\n",
    "    \n",
    "    if i == 1 or i == 2: mu_mod = '0' + mu[i]\n",
    "        \n",
    "    print('Reading angle ' + mu_mod + '...')\n",
    "\n",
    "    T =      np.array(netCDF4.Dataset('./rot_tau200/222809_mu_' + mu_mod + '/T_mu_' + mu[i] + '.222809.nc')['T'])\n",
    "    \n",
    "    Nz_cur = len(T[:, 0, 0])\n",
    "    \n",
    "    T_ssd[i, : Nz_cur, :] = T.reshape(Nz_cur, Ny * Nx)\n",
    "    \n",
    "    T =      np.array(netCDF4.Dataset('./rot_tau200/627321_mu_' + mu_mod + '/T_mu_' + mu[i] + '.627321.nc')['T'])\n",
    "    \n",
    "    T_mag[i, : Nz_cur, :] = T.reshape(Nz_cur, Ny * Nx)\n",
    "\n",
    "    tau200 = np.array(netCDF4.Dataset('./rot_tau200/222809_mu_' + mu_mod + '/result_ttau200.222809.nc')['tau'])\n",
    "    \n",
    "    tau200_ssd[i, : Nz_cur, :] = tau200.reshape(Nz_cur, Ny * Nx)\n",
    "\n",
    "    tau200 = np.array(netCDF4.Dataset('./rot_tau200/627321_mu_' + mu_mod + '/result_ttau200.627321.nc')['tau'])\n",
    "    \n",
    "    tau200_mag[i, : Nz_cur, :] = tau200.reshape(Nz_cur, Ny * Nx)"
   ]
  },
  {
   "cell_type": "code",
   "execution_count": 6,
   "metadata": {
    "collapsed": true
   },
   "outputs": [],
   "source": [
    "tau200 = np.array(netCDF4.Dataset('./rot_tau200/627321_mu_10/result_ttau200.627321.nc')['tau'])"
   ]
  },
  {
   "cell_type": "code",
   "execution_count": null,
   "metadata": {
    "collapsed": true
   },
   "outputs": [],
   "source": [
    "import matplotlib.pyplot as plt\n",
    "\n",
    "import matplotlib.gridspec as gridspec\n",
    "\n",
    "from tqdm import tqdm\n",
    "\n",
    "from matplotlib.ticker import LogLocator\n",
    "from matplotlib.ticker import MultipleLocator\n",
    "from matplotlib.ticker import AutoMinorLocator\n",
    "\n",
    "props = dict(boxstyle = 'round', facecolor = 'wheat', alpha = 0.5)\n",
    "\n",
    "plt.rcParams.update({'font.size': 8})\n",
    "plt.rcParams[\"font.family\"] = 'Times New Roman'\n",
    "\n",
    "mus = ['1.0', '0.8', '0.6', '0.4', '0.2']\n",
    "\n",
    "idx_mu = [0, 2, 4]\n",
    "\n",
    "fig = plt.figure(dpi = 300)\n",
    "\n",
    "fig.set_size_inches(5, 11.25 * 2 / 5, forward = True)\n",
    "\n",
    "fig.tight_layout()\n",
    "\n",
    "gs = gridspec.GridSpec(2, 2, width_ratios = [1, 1], hspace = 0.2, wspace = 0.3)\n",
    "\n",
    "tem_ssd = plt.subplot(gs[0, 0])\n",
    "t_ssd_c = plt.subplot(gs[0, 1])\n",
    "\n",
    "tem_300 = plt.subplot(gs[1, 0])\n",
    "t_300_c = plt.subplot(gs[1, 1])\n",
    "\n",
    "for i in range(len(idx_mu)):\n",
    "\n",
    "    tem_ssd.plot(grid_ssd[idx_mu[i], :], Ti_ssd[idx_mu[i], :], label = r'$\\mu = $' + mus[idx_mu[i]])\n",
    "    t_ssd_c.plot(grid_ssd[idx_mu[i], :], Ti_ssd[idx_mu[i], :])\n",
    "    \n",
    "    tem_300.plot(grid_300[idx_mu[i], :], Ti_300[idx_mu[i], :])\n",
    "    t_300_c.plot(grid_300[idx_mu[i], :], Ti_300[idx_mu[i], :])\n",
    "    \n",
    "    tem2_ssd = t_ssd_c.twinx()\n",
    "    tem2_300 = t_300_c.twinx()\n",
    "    \n",
    "    tem2_ssd.yaxis.set_ticks([])\n",
    "    tem2_300.yaxis.set_ticks([])\n",
    "\n",
    "    tem_ssd.set_xscale('log')\n",
    "    t_ssd_c.set_xscale('log')\n",
    "    tem_300.set_xscale('log')\n",
    "    t_300_c.set_xscale('log')\n",
    "\n",
    "    tem_ssd.set_xlim(3e+1, 2e-10)\n",
    "    tem_300.set_xlim(tem_ssd.get_xlim())\n",
    "\n",
    "    t_ssd_c.set_xlim(1e-3, 2e-10)\n",
    "    t_300_c.set_xlim(t_ssd_c.get_xlim())\n",
    "\n",
    "    tem_ssd.set_ylim(3000, 10000)\n",
    "    tem_300.set_ylim(3000, 10000)\n",
    "    \n",
    "    t_ssd_c.set_ylim(3000, 4500)\n",
    "    t_300_c.set_ylim(3400, 4500)\n",
    "\n",
    "    tem_ssd.yaxis.set_minor_locator(AutoMinorLocator(4))\n",
    "    tem_300.yaxis.set_minor_locator(AutoMinorLocator(4))\n",
    "\n",
    "    tem_ssd.set_ylabel('Temperature, K')\n",
    "    tem_300.set_ylabel('Temperature, K')\n",
    "    \n",
    "    tem2_ssd.set_ylabel('SSD')\n",
    "    tem2_300.set_ylabel('300G')\n",
    "    \n",
    "    tem_300.set_xlabel(r'$\\tau_\\mathrm{Ross}$')\n",
    "    t_300_c.set_xlabel(r'$\\tau_\\mathrm{Ross}$')\n",
    "    \n",
    "    tem_ssd.legend(framealpha = 1, loc = 1, handletextpad = 1, prop = {'size': 7.5})\n",
    "\n",
    "plt.savefig('intro_img_2_tpd_cut.pdf', bbox_inches = 'tight')\n",
    "\n",
    "plt.close('all')"
   ]
  }
 ],
 "metadata": {
  "kernelspec": {
   "display_name": "Python 3",
   "language": "python",
   "name": "python3"
  },
  "language_info": {
   "codemirror_mode": {
    "name": "ipython",
    "version": 3
   },
   "file_extension": ".py",
   "mimetype": "text/x-python",
   "name": "python",
   "nbconvert_exporter": "python",
   "pygments_lexer": "ipython3",
   "version": "3.6.13"
  }
 },
 "nbformat": 4,
 "nbformat_minor": 2
}
