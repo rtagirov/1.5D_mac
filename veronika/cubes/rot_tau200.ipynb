{
 "cells": [
  {
   "cell_type": "code",
   "execution_count": 1,
   "metadata": {
    "collapsed": true
   },
   "outputs": [],
   "source": [
    "import netCDF4\n",
    "import itertools\n",
    "\n",
    "from tqdm import tqdm\n",
    "\n",
    "Nx = 512\n",
    "Ny = 512\n",
    "Nz = 1000\n",
    "Na = 3\n",
    "Ns = Nx * Ny"
   ]
  },
  {
   "cell_type": "code",
   "execution_count": 41,
   "metadata": {
    "collapsed": true
   },
   "outputs": [],
   "source": [
    "import itertools\n",
    "\n",
    "from scipy import interpolate\n",
    "\n",
    "import sys\n",
    "\n",
    "def find_interpol_range(tau, Nz, Ns):\n",
    "\n",
    "    thick = 1e+20\n",
    "    thinn = 1e-20\n",
    "\n",
    "    for k in range(Ns):\n",
    "\n",
    "        opt_thick_end = tau[Nz - 1, k]\n",
    "#       opt_thinn_end = tau[0, k]\n",
    "        opt_thinn_end = tau[1, k]\n",
    "\n",
    "        if opt_thinn_end > thinn: thinn = opt_thinn_end\n",
    "        \n",
    "        if opt_thick_end < thick: thick = opt_thick_end\n",
    "    \n",
    "    return np.log10(thinn), np.log10(thick)\n",
    "\n",
    "def find_shortest_delta(tau, Nz, Ns):\n",
    "    \n",
    "    tau_1d = np.log10(tau.T).reshape(Nz * Ns)\n",
    "    \n",
    "    delta = np.abs(np.diff(tau_1d))\n",
    "    \n",
    "    idx_min = np.argmin(np.abs(delta - 0.001))\n",
    "            \n",
    "    return delta[idx_min]\n",
    "\n",
    "def const_interpol_grid(tau, Nz, Ns):\n",
    "    \n",
    "    thin, thick = find_interpol_range(tau, Nz, Ns)\n",
    "    delta =       find_shortest_delta(tau, Nz, Ns)\n",
    "    \n",
    "    Ng = int(np.floor(np.abs(thick - thin) / delta))\n",
    "    \n",
    "    grid = np.zeros(Ng)\n",
    "    \n",
    "    grid[0] = thin\n",
    "    \n",
    "    for i in range(Ng - 1): grid[i + 1] = grid[i] + delta\n",
    "    \n",
    "    return grid\n",
    "\n",
    "def interpol_and_average(i, target, tau, T, igrid, Ns):\n",
    "    \n",
    "    T_mean = np.zeros(len(igrid))\n",
    "    \n",
    "    for k in tqdm(range(Ns), desc = 'interpolate and average ' + target):\n",
    "    \n",
    "        f = interpolate.interp1d(np.log10(tau[:, k]), T[:, k])\n",
    "        \n",
    "        Ti = f(igrid)\n",
    "        \n",
    "        T_mean += Ti\n",
    "        \n",
    "    T_mean /= Ns\n",
    "    \n",
    "    return T_mean"
   ]
  },
  {
   "cell_type": "code",
   "execution_count": 42,
   "metadata": {
    "collapsed": false
   },
   "outputs": [
    {
     "name": "stdout",
     "output_type": "stream",
     "text": [
      "---------------\n",
      "mu =  10\n",
      "---------------\n",
      "SSD cube\n",
      "reading tau...\n",
      "sampling tau...\n",
      "reading temperature...\n"
     ]
    },
    {
     "name": "stderr",
     "output_type": "stream",
     "text": [
      "interpolate and average SSD temp: 100%|█████████████████████████████████████████████████████████████████████████████████████████████| 262144/262144 [00:32<00:00, 8030.46it/s]\n"
     ]
    },
    {
     "name": "stdout",
     "output_type": "stream",
     "text": [
      "300G cube\n",
      "reading tau...\n",
      "sampling tau...\n",
      "reading temperature...\n"
     ]
    },
    {
     "name": "stderr",
     "output_type": "stream",
     "text": [
      "interpolate and average 300G temp: 100%|████████████████████████████████████████████████████████████████████████████████████████████| 262144/262144 [00:32<00:00, 7945.40it/s]\n"
     ]
    },
    {
     "name": "stdout",
     "output_type": "stream",
     "text": [
      "---------------\n",
      "mu =  6\n",
      "---------------\n",
      "SSD cube\n",
      "reading tau...\n",
      "sampling tau...\n",
      "reading temperature...\n"
     ]
    },
    {
     "name": "stderr",
     "output_type": "stream",
     "text": [
      "interpolate and average SSD temp: 100%|█████████████████████████████████████████████████████████████████████████████████████████████| 262144/262144 [00:35<00:00, 7396.76it/s]\n"
     ]
    },
    {
     "name": "stdout",
     "output_type": "stream",
     "text": [
      "300G cube\n",
      "reading tau...\n",
      "sampling tau...\n",
      "reading temperature...\n"
     ]
    },
    {
     "name": "stderr",
     "output_type": "stream",
     "text": [
      "interpolate and average 300G temp: 100%|████████████████████████████████████████████████████████████████████████████████████████████| 262144/262144 [00:35<00:00, 7313.83it/s]\n"
     ]
    },
    {
     "name": "stdout",
     "output_type": "stream",
     "text": [
      "---------------\n",
      "mu =  2\n",
      "---------------\n",
      "SSD cube\n",
      "reading tau...\n",
      "sampling tau...\n",
      "reading temperature...\n"
     ]
    },
    {
     "name": "stderr",
     "output_type": "stream",
     "text": [
      "interpolate and average SSD temp: 100%|█████████████████████████████████████████████████████████████████████████████████████████████| 262144/262144 [00:43<00:00, 6025.16it/s]\n"
     ]
    },
    {
     "name": "stdout",
     "output_type": "stream",
     "text": [
      "300G cube\n",
      "reading tau...\n",
      "sampling tau...\n",
      "reading temperature...\n"
     ]
    },
    {
     "name": "stderr",
     "output_type": "stream",
     "text": [
      "interpolate and average 300G temp: 100%|████████████████████████████████████████████████████████████████████████████████████████████| 262144/262144 [00:44<00:00, 5886.06it/s]\n"
     ]
    }
   ],
   "source": [
    "mu_id = ['10', '6', '2']\n",
    "\n",
    "T_ssd =    np.ones((Na, Nz, Ns)) * np.nan\n",
    "t200_ssd = np.ones((Na, Nz, Ns)) * np.nan\n",
    "\n",
    "T_mag =    np.ones((Na, Nz, Ns)) * np.nan\n",
    "t200_mag = np.ones((Na, Nz, Ns)) * np.nan\n",
    "\n",
    "grid_ssd = np.ones((Na, 110000)) * np.nan\n",
    "grid_mag = np.ones((Na, 110000)) * np.nan\n",
    "\n",
    "Ti_ssd =   np.ones((Na, 110000)) * np.nan\n",
    "Ti_mag =   np.ones((Na, 110000)) * np.nan\n",
    "\n",
    "for i in range(Na):\n",
    "    \n",
    "    print(\"---------------\")\n",
    "    print('mu = ', mu_id[i])\n",
    "    print(\"---------------\")\n",
    "    \n",
    "    if i == 0:           mu_mod = mu_id[i]\n",
    "    \n",
    "    if i == 1 or i == 2: mu_mod = '0' + mu_id[i]    \n",
    "    \n",
    "    print('SSD cube')\n",
    "    \n",
    "    sample = np.random.choice(Nx * Ny, Ns, replace = False)\n",
    "    \n",
    "    print('reading tau...')\n",
    "    \n",
    "    t200 = np.array(netCDF4.Dataset('./rot_tau200/222809_mu_' + mu_mod + '/result_ttau200.222809.nc')['tau'])\n",
    "    \n",
    "    Nz_cur = len(t200[:, 0, 0])\n",
    "    \n",
    "    t200_ssd[i, : Nz_cur, :] = t200.reshape(Nz_cur, Ny * Nx)\n",
    "    \n",
    "    if i == 1 or i == 2: t200_ssd[i, 0, :] = 1e-15\n",
    "    \n",
    "    print('sampling tau...')\n",
    "    \n",
    "    tau = t200_ssd[i, : Nz_cur, sample].T\n",
    "    \n",
    "    grid = const_interpol_grid(tau, Nz_cur, Ns)\n",
    "    \n",
    "    grid_ssd[i, : len(grid)] = 10.0**grid\n",
    "    \n",
    "    print('reading temperature...')\n",
    "    \n",
    "    T = np.array(netCDF4.Dataset('./rot_tau200/222809_mu_' + mu_mod + '/T_mu_' + mu_id[i] + '.222809.nc')['T'])\n",
    "    \n",
    "    T_ssd[i, : Nz_cur, :] = T.reshape(Nz_cur, Ny * Nx)\n",
    "    \n",
    "    T_mean = interpol_and_average(i, 'SSD temp', tau, T_ssd[i, : Nz_cur, sample].T, grid, Ns)\n",
    "\n",
    "    Ti_ssd[i, : len(T_mean)] = T_mean\n",
    "    \n",
    "    print('300G cube')\n",
    "    \n",
    "    sample = np.random.choice(Nx * Ny, Ns, replace = False)\n",
    "    \n",
    "    print('reading tau...')\n",
    "    \n",
    "    t200 = np.array(netCDF4.Dataset('./rot_tau200/627321_mu_' + mu_mod + '/result_ttau200.627321.nc')['tau'])\n",
    "    \n",
    "    Nz_cur = len(t200[:, 0, 0])\n",
    "    \n",
    "    t200_mag[i, : Nz_cur, :] = t200.reshape(Nz_cur, Ny * Nx)\n",
    "    \n",
    "    if i == 1 or i == 2: t200_mag[i, 0, :] = 1e-15\n",
    "    \n",
    "    print('sampling tau...')\n",
    "    \n",
    "    tau = t200_mag[i, : Nz_cur, sample].T\n",
    "    \n",
    "    grid = const_interpol_grid(tau, Nz_cur, Ns)\n",
    "    \n",
    "    grid_mag[i, : len(grid)] = 10.0**grid\n",
    "    \n",
    "    print('reading temperature...')\n",
    "    \n",
    "    T = np.array(netCDF4.Dataset('./rot_tau200/627321_mu_' + mu_mod + '/T_mu_' + mu_id[i] + '.627321.nc')['T'])\n",
    "    \n",
    "    T_mag[i, : Nz_cur, :] = T.reshape(Nz_cur, Ny * Nx)\n",
    "    \n",
    "    T_mean = interpol_and_average(i, '300G temp', tau, T_mag[i, : Nz_cur, sample].T, grid, Ns)\n",
    "\n",
    "    Ti_mag[i, : len(T_mean)] = T_mean"
   ]
  },
  {
   "cell_type": "code",
   "execution_count": null,
   "metadata": {
    "collapsed": true
   },
   "outputs": [],
   "source": [
    "np.savez('tau200_rot', t200_ssd = t200_ssd, T_ssd = T_ssd, t200_mag = t200_mag, T_mag = T_mag)"
   ]
  },
  {
   "cell_type": "code",
   "execution_count": null,
   "metadata": {
    "collapsed": true
   },
   "outputs": [],
   "source": [
    "t200_ssd = np.load('tau200_rot.npz')['t200_ssd']\n",
    "t200_mag = np.load('tau200_rot.npz')['t200_mag']\n",
    "\n",
    "T_ssd = np.load('tau200_rot.npz')['T_ssd']\n",
    "T_mag = np.load('tau200_rot.npz')['T_mag']"
   ]
  },
  {
   "cell_type": "code",
   "execution_count": null,
   "metadata": {
    "collapsed": true
   },
   "outputs": [],
   "source": [
    "np.savez('tau200_rot_interpol', grid_ssd = grid_ssd, Ti_ssd = Ti_ssd,\\\n",
    "                                grid_mag = grid_mag, Ti_mag = Ti_mag)"
   ]
  },
  {
   "cell_type": "code",
   "execution_count": 3,
   "metadata": {
    "collapsed": false
   },
   "outputs": [],
   "source": [
    "grid_ssd = np.load('tau200_rot_interpol.npz')['grid_ssd']\n",
    "grid_mag = np.load('tau200_rot_interpol.npz')['grid_mag']\n",
    "\n",
    "Ti_ssd =   np.load('tau200_rot_interpol.npz')['Ti_ssd']\n",
    "Ti_mag =   np.load('tau200_rot_interpol.npz')['Ti_mag']"
   ]
  },
  {
   "cell_type": "code",
   "execution_count": 4,
   "metadata": {
    "collapsed": true
   },
   "outputs": [],
   "source": [
    "import matplotlib.pyplot as plt\n",
    "\n",
    "import matplotlib.gridspec as gridspec\n",
    "\n",
    "from tqdm import tqdm\n",
    "\n",
    "from matplotlib.ticker import LogLocator\n",
    "from matplotlib.ticker import MultipleLocator\n",
    "from matplotlib.ticker import AutoMinorLocator\n",
    "\n",
    "props = dict(boxstyle = 'round', facecolor = 'wheat', alpha = 0.5)\n",
    "\n",
    "plt.rcParams.update({'font.size': 8})\n",
    "plt.rcParams[\"font.family\"] = 'Times New Roman'\n",
    "\n",
    "mus = ['1.0', '0.6', '0.2']\n",
    "\n",
    "fig = plt.figure(dpi = 300)\n",
    "\n",
    "fig.set_size_inches(5, 11.25 * 2 / 5, forward = True)\n",
    "\n",
    "fig.tight_layout()\n",
    "\n",
    "gs = gridspec.GridSpec(2, 2, width_ratios = [1, 1], hspace = 0.2, wspace = 0.3)\n",
    "\n",
    "tem_ssd = plt.subplot(gs[0, 0])\n",
    "t_ssd_c = plt.subplot(gs[0, 1])\n",
    "\n",
    "tem_mag = plt.subplot(gs[1, 0])\n",
    "t_mag_c = plt.subplot(gs[1, 1])\n",
    "\n",
    "for i in range(len(mus)):\n",
    "\n",
    "    tem_ssd.plot(grid_ssd[i, :], Ti_ssd[i, :], label = r'$\\mu = $' + mus[i])\n",
    "    t_ssd_c.plot(grid_ssd[i, :], Ti_ssd[i, :])\n",
    "    \n",
    "    tem_mag.plot(grid_mag[i, :], Ti_mag[i, :])\n",
    "    t_mag_c.plot(grid_mag[i, :], Ti_mag[i, :])\n",
    "    \n",
    "    tem2_ssd = t_ssd_c.twinx()\n",
    "    tem2_mag = t_mag_c.twinx()\n",
    "    \n",
    "    tem2_ssd.yaxis.set_ticks([])\n",
    "    tem2_mag.yaxis.set_ticks([])\n",
    "\n",
    "    tem_ssd.set_xscale('log')\n",
    "    t_ssd_c.set_xscale('log')\n",
    "    tem_mag.set_xscale('log')\n",
    "    t_mag_c.set_xscale('log')\n",
    "\n",
    "    tem_ssd.set_xlim(1e+5, 1e-1)\n",
    "    tem_mag.set_xlim(tem_ssd.get_xlim())\n",
    "\n",
    "    t_ssd_c.set_xlim(1e+2, 1e-1)\n",
    "    t_mag_c.set_xlim(t_ssd_c.get_xlim())\n",
    "\n",
    "    tem_ssd.set_ylim(2500, 12000)\n",
    "    tem_mag.set_ylim(2500, 12000)\n",
    "    \n",
    "    t_ssd_c.set_ylim(2950, 4050)\n",
    "    t_mag_c.set_ylim(3000, 4500)\n",
    "\n",
    "    tem_ssd.yaxis.set_minor_locator(AutoMinorLocator(4))\n",
    "    tem_mag.yaxis.set_minor_locator(AutoMinorLocator(4))\n",
    "\n",
    "    tem_ssd.set_ylabel('Temperature, K')\n",
    "    tem_mag.set_ylabel('Temperature, K')\n",
    "    \n",
    "    tem2_ssd.set_ylabel('SSD')\n",
    "    tem2_mag.set_ylabel('300G')\n",
    "    \n",
    "    tem_mag.set_xlabel(r'$\\tau_\\mathrm{200}$')\n",
    "    t_mag_c.set_xlabel(r'$\\tau_\\mathrm{200}$')\n",
    "    \n",
    "    tem_ssd.legend(framealpha = 1, loc = 1, handletextpad = 1, prop = {'size': 7.5})\n",
    "\n",
    "plt.savefig('mean_temp_of_tau200.pdf', bbox_inches = 'tight')\n",
    "\n",
    "plt.close('all')"
   ]
  },
  {
   "cell_type": "code",
   "execution_count": 54,
   "metadata": {
    "collapsed": false
   },
   "outputs": [
    {
     "name": "stderr",
     "output_type": "stream",
     "text": [
      "100%|███████████████████████████████████████████████████████████████████████████████████████████████████████████████████████████████████████████| 3/3 [00:02<00:00,  1.14it/s]\n"
     ]
    }
   ],
   "source": [
    "import matplotlib.pyplot as plt\n",
    "\n",
    "import matplotlib.gridspec as gridspec\n",
    "\n",
    "from tqdm import tqdm\n",
    "\n",
    "from matplotlib.ticker import LogLocator\n",
    "from matplotlib.ticker import MultipleLocator\n",
    "from matplotlib.ticker import AutoMinorLocator\n",
    "\n",
    "props = dict(boxstyle = 'round', facecolor = 'wheat', alpha = 0.5)\n",
    "\n",
    "plt.rcParams.update({'font.size': 8})\n",
    "plt.rcParams[\"font.family\"] = 'Times New Roman'\n",
    "\n",
    "mus = ['1.0', '0.6', '0.2']\n",
    "\n",
    "fig = plt.figure(dpi = 300)\n",
    "\n",
    "fig.set_size_inches(10, 11.25 * 3 / 5, forward = True)\n",
    "\n",
    "fig.tight_layout()\n",
    "\n",
    "gs = gridspec.GridSpec(3, 3, width_ratios = [1, 1, 1], hspace = 0.2, wspace = 0.2)\n",
    "\n",
    "for i in tqdm(range(3)):\n",
    "\n",
    "    ssd = plt.subplot(gs[i, 0])\n",
    "    mag = plt.subplot(gs[i, 1])\n",
    "        \n",
    "    com = plt.subplot(gs[i, 2])\n",
    "    \n",
    "    for k in np.random.choice(Nx * Ny, 16, replace = False):\n",
    "#    for k in range(Ns):\n",
    "        \n",
    "        ssd.plot(t200_ssd[i, :, k], T_ssd[i, :, k], color = 'gray', linewidth = 0.5)\n",
    "        mag.plot(t200_mag[i, :, k], T_mag[i, :, k], color = 'gray', linewidth = 0.5)\n",
    "        \n",
    "    ssd.plot(grid_ssd[i, :], Ti_ssd[i, :], color = 'k')\n",
    "    mag.plot(grid_mag[i, :], Ti_mag[i, :], color = 'r')\n",
    "    \n",
    "    com.plot(grid_ssd[i, :], Ti_ssd[i, :], color = 'k', label = 'SSD')\n",
    "    com.plot(grid_mag[i, :], Ti_mag[i, :], color = 'r', label = '300G')\n",
    "        \n",
    "    ssd.set_xscale('log')\n",
    "    \n",
    "    ssd.set_xlim(2e+5, 1e-3)\n",
    "    ssd.set_ylim(2000, 13500)\n",
    "    \n",
    "    ssd.yaxis.set_minor_locator(AutoMinorLocator(4))\n",
    "    \n",
    "    ssd.set_ylabel('Temperature, K')\n",
    "    \n",
    "    if i == 0: ssd.set_title('SSD')\n",
    "    \n",
    "    mag.set_xscale('log')\n",
    "    \n",
    "    mag.set_xlim(ssd.get_xlim())\n",
    "    mag.set_ylim(ssd.get_ylim())\n",
    "    \n",
    "    mag.yaxis.set_minor_locator(AutoMinorLocator(4))\n",
    "    \n",
    "    if i == 0: mag.set_title('300G')\n",
    "        \n",
    "    com.set_xscale('log')\n",
    "    \n",
    "    com.set_xlim(ssd.get_xlim())\n",
    "    com.set_ylim(ssd.get_ylim())\n",
    "    \n",
    "    com.yaxis.set_minor_locator(AutoMinorLocator(4))\n",
    "    \n",
    "    if i == 2: ssd.set_xlabel(r'$\\tau_\\mathrm{200}$')\n",
    "    if i == 2: mag.set_xlabel(r'$\\tau_\\mathrm{200}$')\n",
    "    if i == 2: com.set_xlabel(r'$\\tau_\\mathrm{200}$')\n",
    "    \n",
    "    com.set_ylabel(r'$\\mu =$' + mus[i])\n",
    "    com.yaxis.set_label_position(\"right\")\n",
    "    \n",
    "    if i == 0: com.legend(framealpha = 1, loc = 1, handletextpad = 1, prop = {'size': 7.5})\n",
    "\n",
    "plt.savefig('intro_img_2_tau200.pdf', bbox_inches = 'tight')\n",
    "\n",
    "plt.close('all')"
   ]
  }
 ],
 "metadata": {
  "kernelspec": {
   "display_name": "Python 3",
   "language": "python",
   "name": "python3"
  },
  "language_info": {
   "codemirror_mode": {
    "name": "ipython",
    "version": 3
   },
   "file_extension": ".py",
   "mimetype": "text/x-python",
   "name": "python",
   "nbconvert_exporter": "python",
   "pygments_lexer": "ipython3",
   "version": "3.6.13"
  }
 },
 "nbformat": 4,
 "nbformat_minor": 2
}
