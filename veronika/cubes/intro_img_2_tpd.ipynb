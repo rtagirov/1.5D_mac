{
 "cells": [
  {
   "cell_type": "code",
   "execution_count": 1,
   "metadata": {
    "collapsed": true
   },
   "outputs": [],
   "source": [
    "import netCDF4\n",
    "import itertools\n",
    "\n",
    "from tqdm import tqdm\n",
    "\n",
    "Nx = 512\n",
    "Ny = 512\n",
    "Nz = 601\n",
    "Na = 5\n",
    "Ns = Nx * Ny"
   ]
  },
  {
   "cell_type": "code",
   "execution_count": 11,
   "metadata": {
    "collapsed": true
   },
   "outputs": [],
   "source": [
    "import itertools\n",
    "\n",
    "from scipy import interpolate\n",
    "\n",
    "import sys\n",
    "\n",
    "def find_interpol_range(tau, Nz, Ns):\n",
    "\n",
    "    thick = 1e+20\n",
    "    thinn = 1e-20\n",
    "\n",
    "    for k in range(Ns):\n",
    "\n",
    "        opt_thick_end = tau[Nz - 1, k]\n",
    "        opt_thinn_end = tau[0, k]\n",
    "\n",
    "        if opt_thinn_end > thinn: thinn = opt_thinn_end\n",
    "        \n",
    "        if opt_thick_end < thick: thick = opt_thick_end\n",
    "    \n",
    "    return np.log10(thinn), np.log10(thick)\n",
    "\n",
    "def find_shortest_delta(tau, Nz, Ns):\n",
    "    \n",
    "    tau_1d = np.log10(tau.T).reshape(Nz * Ns)\n",
    "    \n",
    "    delta = np.abs(np.diff(tau_1d))\n",
    "    \n",
    "    idx_min = np.argmin(np.abs(delta - 0.001))\n",
    "            \n",
    "    return delta[idx_min]\n",
    "\n",
    "def const_interpol_grid(tau, Nz, Ns):\n",
    "    \n",
    "    thin, thick = find_interpol_range(tau, Nz, Ns)\n",
    "    delta =       find_shortest_delta(tau, Nz, Ns)\n",
    "    \n",
    "    Ng = int(np.floor(np.abs(thick - thin) / delta))\n",
    "    \n",
    "    grid = np.zeros(Ng)\n",
    "    \n",
    "    grid[0] = thin\n",
    "    \n",
    "    for i in range(Ng - 1): grid[i + 1] = grid[i] + delta\n",
    "    \n",
    "    return grid\n",
    "\n",
    "def interpol_and_average(i, target, tau, T, igrid, Ns):\n",
    "    \n",
    "    T_mean = np.zeros(len(igrid))\n",
    "    \n",
    "    for k in tqdm(range(Ns), desc = 'interpolate and average ' + target):\n",
    "    \n",
    "        f = interpolate.interp1d(np.log10(tau[:, k]), T[:, k])\n",
    "        \n",
    "        Ti = f(igrid)\n",
    "        \n",
    "        T_mean += Ti\n",
    "        \n",
    "    T_mean /= Ns\n",
    "    \n",
    "    return T_mean"
   ]
  },
  {
   "cell_type": "code",
   "execution_count": 12,
   "metadata": {
    "collapsed": false
   },
   "outputs": [
    {
     "name": "stdout",
     "output_type": "stream",
     "text": [
      "---------------\n",
      "mu =  10\n",
      "---------------\n",
      "SSD cube\n",
      "reading tau...\n",
      "sampling tau...\n",
      "reading temperature...\n",
      "reading pressure...\n",
      "reading density...\n"
     ]
    },
    {
     "name": "stderr",
     "output_type": "stream",
     "text": [
      "interpolate and average SSD temp: 100%|█████████████████████████████████████████████████████████████████████████████████████████████| 262144/262144 [00:48<00:00, 5443.32it/s]\n",
      "interpolate and average SSD pres: 100%|█████████████████████████████████████████████████████████████████████████████████████████████| 262144/262144 [00:49<00:00, 5329.99it/s]\n",
      "interpolate and average SSD dens: 100%|█████████████████████████████████████████████████████████████████████████████████████████████| 262144/262144 [00:48<00:00, 5380.52it/s]\n"
     ]
    },
    {
     "name": "stdout",
     "output_type": "stream",
     "text": [
      "300G cube\n",
      "reading tau...\n",
      "sampling tau...\n",
      "reading temperature...\n",
      "reading pressure...\n",
      "reading density...\n"
     ]
    },
    {
     "name": "stderr",
     "output_type": "stream",
     "text": [
      "interpolate and average 300G temp: 100%|████████████████████████████████████████████████████████████████████████████████████████████| 262144/262144 [00:49<00:00, 5290.06it/s]\n",
      "interpolate and average 300G pres: 100%|████████████████████████████████████████████████████████████████████████████████████████████| 262144/262144 [00:51<00:00, 5131.13it/s]\n",
      "interpolate and average 300G dens: 100%|████████████████████████████████████████████████████████████████████████████████████████████| 262144/262144 [00:49<00:00, 5289.93it/s]\n"
     ]
    },
    {
     "name": "stdout",
     "output_type": "stream",
     "text": [
      "---------------\n",
      "mu =  8\n",
      "---------------\n",
      "SSD cube\n",
      "reading tau...\n",
      "sampling tau...\n",
      "reading temperature...\n",
      "reading pressure...\n",
      "reading density...\n"
     ]
    },
    {
     "name": "stderr",
     "output_type": "stream",
     "text": [
      "interpolate and average SSD temp: 100%|█████████████████████████████████████████████████████████████████████████████████████████████| 262144/262144 [00:47<00:00, 5472.89it/s]\n",
      "interpolate and average SSD pres: 100%|█████████████████████████████████████████████████████████████████████████████████████████████| 262144/262144 [00:49<00:00, 5251.74it/s]\n",
      "interpolate and average SSD dens: 100%|█████████████████████████████████████████████████████████████████████████████████████████████| 262144/262144 [00:47<00:00, 5484.68it/s]\n"
     ]
    },
    {
     "name": "stdout",
     "output_type": "stream",
     "text": [
      "300G cube\n",
      "reading tau...\n",
      "sampling tau...\n",
      "reading temperature...\n",
      "reading pressure...\n",
      "reading density...\n"
     ]
    },
    {
     "name": "stderr",
     "output_type": "stream",
     "text": [
      "interpolate and average 300G temp: 100%|████████████████████████████████████████████████████████████████████████████████████████████| 262144/262144 [00:48<00:00, 5363.08it/s]\n",
      "interpolate and average 300G pres: 100%|████████████████████████████████████████████████████████████████████████████████████████████| 262144/262144 [00:49<00:00, 5254.04it/s]\n",
      "interpolate and average 300G dens: 100%|████████████████████████████████████████████████████████████████████████████████████████████| 262144/262144 [00:49<00:00, 5308.62it/s]\n"
     ]
    },
    {
     "name": "stdout",
     "output_type": "stream",
     "text": [
      "---------------\n",
      "mu =  6\n",
      "---------------\n",
      "SSD cube\n",
      "reading tau...\n",
      "sampling tau...\n",
      "reading temperature...\n",
      "reading pressure...\n",
      "reading density...\n"
     ]
    },
    {
     "name": "stderr",
     "output_type": "stream",
     "text": [
      "interpolate and average SSD temp: 100%|█████████████████████████████████████████████████████████████████████████████████████████████| 262144/262144 [00:48<00:00, 5406.94it/s]\n",
      "interpolate and average SSD pres: 100%|█████████████████████████████████████████████████████████████████████████████████████████████| 262144/262144 [00:48<00:00, 5371.41it/s]\n",
      "interpolate and average SSD dens: 100%|█████████████████████████████████████████████████████████████████████████████████████████████| 262144/262144 [00:48<00:00, 5359.35it/s]\n"
     ]
    },
    {
     "name": "stdout",
     "output_type": "stream",
     "text": [
      "300G cube\n",
      "reading tau...\n",
      "sampling tau...\n",
      "reading temperature...\n",
      "reading pressure...\n",
      "reading density...\n"
     ]
    },
    {
     "name": "stderr",
     "output_type": "stream",
     "text": [
      "interpolate and average 300G temp: 100%|████████████████████████████████████████████████████████████████████████████████████████████| 262144/262144 [00:49<00:00, 5293.21it/s]\n",
      "interpolate and average 300G pres: 100%|████████████████████████████████████████████████████████████████████████████████████████████| 262144/262144 [00:49<00:00, 5299.58it/s]\n",
      "interpolate and average 300G dens: 100%|████████████████████████████████████████████████████████████████████████████████████████████| 262144/262144 [00:49<00:00, 5254.87it/s]\n"
     ]
    },
    {
     "name": "stdout",
     "output_type": "stream",
     "text": [
      "---------------\n",
      "mu =  4\n",
      "---------------\n",
      "SSD cube\n",
      "reading tau...\n",
      "sampling tau...\n",
      "reading temperature...\n",
      "reading pressure...\n",
      "reading density...\n"
     ]
    },
    {
     "name": "stderr",
     "output_type": "stream",
     "text": [
      "interpolate and average SSD temp: 100%|█████████████████████████████████████████████████████████████████████████████████████████████| 262144/262144 [00:48<00:00, 5415.47it/s]\n",
      "interpolate and average SSD pres: 100%|█████████████████████████████████████████████████████████████████████████████████████████████| 262144/262144 [00:47<00:00, 5483.59it/s]\n",
      "interpolate and average SSD dens: 100%|█████████████████████████████████████████████████████████████████████████████████████████████| 262144/262144 [00:48<00:00, 5455.00it/s]\n"
     ]
    },
    {
     "name": "stdout",
     "output_type": "stream",
     "text": [
      "300G cube\n",
      "reading tau...\n",
      "sampling tau...\n",
      "reading temperature...\n",
      "reading pressure...\n",
      "reading density...\n"
     ]
    },
    {
     "name": "stderr",
     "output_type": "stream",
     "text": [
      "interpolate and average 300G temp: 100%|████████████████████████████████████████████████████████████████████████████████████████████| 262144/262144 [00:50<00:00, 5208.69it/s]\n",
      "interpolate and average 300G pres: 100%|████████████████████████████████████████████████████████████████████████████████████████████| 262144/262144 [00:48<00:00, 5448.32it/s]\n",
      "interpolate and average 300G dens: 100%|████████████████████████████████████████████████████████████████████████████████████████████| 262144/262144 [00:50<00:00, 5238.77it/s]\n"
     ]
    },
    {
     "name": "stdout",
     "output_type": "stream",
     "text": [
      "---------------\n",
      "mu =  2\n",
      "---------------\n",
      "SSD cube\n",
      "reading tau...\n",
      "sampling tau...\n",
      "reading temperature...\n",
      "reading pressure...\n",
      "reading density...\n"
     ]
    },
    {
     "name": "stderr",
     "output_type": "stream",
     "text": [
      "interpolate and average SSD temp: 100%|█████████████████████████████████████████████████████████████████████████████████████████████| 262144/262144 [00:49<00:00, 5264.86it/s]\n",
      "interpolate and average SSD pres: 100%|█████████████████████████████████████████████████████████████████████████████████████████████| 262144/262144 [00:50<00:00, 5203.18it/s]\n",
      "interpolate and average SSD dens: 100%|█████████████████████████████████████████████████████████████████████████████████████████████| 262144/262144 [00:48<00:00, 5371.81it/s]\n"
     ]
    },
    {
     "name": "stdout",
     "output_type": "stream",
     "text": [
      "300G cube\n",
      "reading tau...\n",
      "sampling tau...\n",
      "reading temperature...\n",
      "reading pressure...\n",
      "reading density...\n"
     ]
    },
    {
     "name": "stderr",
     "output_type": "stream",
     "text": [
      "interpolate and average 300G temp: 100%|████████████████████████████████████████████████████████████████████████████████████████████| 262144/262144 [00:50<00:00, 5227.77it/s]\n",
      "interpolate and average 300G pres: 100%|████████████████████████████████████████████████████████████████████████████████████████████| 262144/262144 [00:49<00:00, 5280.21it/s]\n",
      "interpolate and average 300G dens: 100%|████████████████████████████████████████████████████████████████████████████████████████████| 262144/262144 [00:50<00:00, 5220.17it/s]\n"
     ]
    }
   ],
   "source": [
    "mu_id = ['10', '8', '6', '4', '2']\n",
    "\n",
    "T = np.zeros((Na, Nz, Ny * Nx))\n",
    "p = np.zeros((Na, Nz, Ny * Nx))\n",
    "d = np.zeros((Na, Nz, Ny * Nx))\n",
    "t = np.zeros((Na, Nz, Ny * Nx))\n",
    "\n",
    "T_ssd = np.zeros((Na, Nz, Ns))\n",
    "p_ssd = np.zeros((Na, Nz, Ns))\n",
    "d_ssd = np.zeros((Na, Nz, Ns))\n",
    "t_ssd = np.zeros((Na, Nz, Ns))\n",
    "\n",
    "T_300 = np.zeros((Na, Nz, Ns))\n",
    "p_300 = np.zeros((Na, Nz, Ns))\n",
    "d_300 = np.zeros((Na, Nz, Ns))\n",
    "t_300 = np.zeros((Na, Nz, Ns))\n",
    "\n",
    "grid_ssd = np.ones((Na, 110000)) * np.nan\n",
    "grid_300 = np.ones((Na, 110000)) * np.nan\n",
    "\n",
    "Ti_ssd = np.ones((Na, 110000)) * np.nan\n",
    "pi_ssd = np.ones((Na, 110000)) * np.nan\n",
    "di_ssd = np.ones((Na, 110000)) * np.nan\n",
    "\n",
    "Ti_300 = np.ones((Na, 110000)) * np.nan\n",
    "pi_300 = np.ones((Na, 110000)) * np.nan\n",
    "di_300 = np.ones((Na, 110000)) * np.nan\n",
    "\n",
    "for i in range(Na):\n",
    "    \n",
    "    print(\"---------------\")\n",
    "    print('mu = ', mu_id[i])\n",
    "    print(\"---------------\")\n",
    "    \n",
    "    print('SSD cube')\n",
    "    \n",
    "    sample = np.random.choice(Nx * Ny, Ns, replace = False)\n",
    "    \n",
    "    print('reading tau...')\n",
    "    t[i, :, :] = np.array(netCDF4.Dataset('./ssd/222809/' + mu_id[i] + '/taugrid.222809.nc.1')['tau']).reshape(Nz, Ny * Nx)\n",
    "    \n",
    "    print('sampling tau...')\n",
    "    tau = t[i, :, sample].T\n",
    "    \n",
    "    grid = const_interpol_grid(tau, Nz, Ns)\n",
    "    \n",
    "    grid_ssd[i, : len(grid)] = 10.0**grid\n",
    "    \n",
    "    print('reading temperature...')\n",
    "    T[i, :, :] = np.array(netCDF4.Dataset('./ssd/222809/' + mu_id[i] + '/T_onTau.222809.nc.1')['T']).reshape(Nz, Ny * Nx)\n",
    "    print('reading pressure...')\n",
    "    p[i, :, :] = np.array(netCDF4.Dataset('./ssd/222809/' + mu_id[i] + '/P_onTau.222809.nc.1')['P']).reshape(Nz, Ny * Nx)\n",
    "    print('reading density...')\n",
    "    d[i, :, :] = np.array(netCDF4.Dataset('./ssd/222809/' + mu_id[i] + '/rho_onTau.222809.nc.1')['R']).reshape(Nz, Ny * Nx)\n",
    "    \n",
    "    T_mean = interpol_and_average(i, 'SSD temp', tau, T[i, :, sample].T, grid, Ns)\n",
    "    p_mean = interpol_and_average(i, 'SSD pres', tau, p[i, :, sample].T, grid, Ns)\n",
    "    d_mean = interpol_and_average(i, 'SSD dens', tau, d[i, :, sample].T, grid, Ns)\n",
    "\n",
    "    Ti_ssd[i, : len(T_mean)] = T_mean\n",
    "    pi_ssd[i, : len(p_mean)] = p_mean\n",
    "    di_ssd[i, : len(d_mean)] = d_mean\n",
    "    \n",
    "    print('300G cube')\n",
    "    \n",
    "    sample = np.random.choice(Nx * Ny, Ns, replace = False)\n",
    "\n",
    "    print('reading tau...')\n",
    "    t[i, :, :] = np.array(netCDF4.Dataset('./300G/627321/' + mu_id[i] + '/taugrid.627321.nc.1')['tau']).reshape(Nz, Ny * Nx)\n",
    "    \n",
    "    print('sampling tau...')\n",
    "    tau = t[i, :, sample].T\n",
    "    \n",
    "    grid = const_interpol_grid(tau, Nz, Ns)\n",
    "    \n",
    "    grid_300[i, : len(grid)] = 10.0**grid\n",
    "    \n",
    "    print('reading temperature...')\n",
    "    T[i, :, :] = np.array(netCDF4.Dataset('./300G/627321/' + mu_id[i] + '/T_onTau.627321.nc.1')['T']).reshape(Nz, Ny * Nx)\n",
    "    print('reading pressure...')\n",
    "    p[i, :, :] = np.array(netCDF4.Dataset('./300G/627321/' + mu_id[i] + '/P_onTau.627321.nc.1')['P']).reshape(Nz, Ny * Nx)\n",
    "    print('reading density...')\n",
    "    d[i, :, :] = np.array(netCDF4.Dataset('./300G/627321/' + mu_id[i] + '/rho_onTau.627321.nc.1')['R']).reshape(Nz, Ny * Nx)\n",
    "    \n",
    "    T_mean = interpol_and_average(i, '300G temp', tau, T[i, :, sample].T, grid, Ns)\n",
    "    p_mean = interpol_and_average(i, '300G pres', tau, p[i, :, sample].T, grid, Ns)\n",
    "    d_mean = interpol_and_average(i, '300G dens', tau, d[i, :, sample].T, grid, Ns)\n",
    "\n",
    "    Ti_300[i, : len(T_mean)] = T_mean\n",
    "    pi_300[i, : len(p_mean)] = p_mean\n",
    "    di_300[i, : len(d_mean)] = d_mean\n",
    "    \n",
    "np.savez('intro_img_interpol_tpd', grid_ssd = grid_ssd, Ti_ssd = Ti_ssd, pi_ssd = pi_ssd, di_ssd = di_ssd,\\\n",
    "                                   grid_300 = grid_300, Ti_300 = Ti_300, pi_300 = pi_300, di_300 = di_300)"
   ]
  },
  {
   "cell_type": "code",
   "execution_count": 2,
   "metadata": {
    "collapsed": true
   },
   "outputs": [],
   "source": [
    "grid_ssd = np.load('intro_img_interpol_tpd.npz')['grid_ssd']\n",
    "grid_300 = np.load('intro_img_interpol_tpd.npz')['grid_300']\n",
    "\n",
    "Ti_ssd =   np.load('intro_img_interpol_tpd.npz')['Ti_ssd']\n",
    "Ti_300 =   np.load('intro_img_interpol_tpd.npz')['Ti_300']\n",
    "\n",
    "pi_ssd =   np.load('intro_img_interpol_tpd.npz')['pi_ssd']\n",
    "pi_300 =   np.load('intro_img_interpol_tpd.npz')['pi_300']\n",
    "\n",
    "di_ssd =   np.load('intro_img_interpol_tpd.npz')['di_ssd']\n",
    "di_300 =   np.load('intro_img_interpol_tpd.npz')['di_300']"
   ]
  },
  {
   "cell_type": "code",
   "execution_count": 17,
   "metadata": {
    "collapsed": true
   },
   "outputs": [],
   "source": [
    "import matplotlib.pyplot as plt\n",
    "\n",
    "import matplotlib.gridspec as gridspec\n",
    "\n",
    "from tqdm import tqdm\n",
    "\n",
    "from matplotlib.ticker import LogLocator\n",
    "from matplotlib.ticker import MultipleLocator\n",
    "from matplotlib.ticker import AutoMinorLocator\n",
    "\n",
    "props = dict(boxstyle = 'round', facecolor = 'wheat', alpha = 0.5)\n",
    "\n",
    "plt.rcParams.update({'font.size': 8})\n",
    "plt.rcParams[\"font.family\"] = 'Times New Roman'\n",
    "\n",
    "mus = ['1.0', '0.8', '0.6', '0.4', '0.2']\n",
    "\n",
    "idx_mu = [0, 2, 4]\n",
    "\n",
    "fig = plt.figure(dpi = 300)\n",
    "\n",
    "fig.set_size_inches(10, 11.25 * 2 / 5, forward = True)\n",
    "\n",
    "fig.tight_layout()\n",
    "\n",
    "gs = gridspec.GridSpec(2, 3, width_ratios = [1, 1, 1], hspace = 0.2, wspace = 0.3)\n",
    "\n",
    "tem_ssd = plt.subplot(gs[0, 0])\n",
    "pre_ssd = plt.subplot(gs[0, 1])\n",
    "den_ssd = plt.subplot(gs[0, 2])\n",
    "\n",
    "tem_300 = plt.subplot(gs[1, 0])\n",
    "pre_300 = plt.subplot(gs[1, 1])\n",
    "den_300 = plt.subplot(gs[1, 2])\n",
    "\n",
    "for i in range(len(idx_mu)):\n",
    "\n",
    "    tem_ssd.plot(grid_ssd[idx_mu[i], :], Ti_ssd[idx_mu[i], :], label = r'$\\mu = $' + mus[idx_mu[i]])\n",
    "    pre_ssd.plot(grid_ssd[idx_mu[i], :], pi_ssd[idx_mu[i], :])\n",
    "    den_ssd.plot(grid_ssd[idx_mu[i], :], di_ssd[idx_mu[i], :])\n",
    "    \n",
    "    tem_300.plot(grid_300[idx_mu[i], :], Ti_300[idx_mu[i], :])\n",
    "    pre_300.plot(grid_300[idx_mu[i], :], pi_300[idx_mu[i], :])\n",
    "    den_300.plot(grid_300[idx_mu[i], :], di_300[idx_mu[i], :])\n",
    "    \n",
    "    den2_ssd = den_ssd.twinx()\n",
    "    den2_300 = den_300.twinx()\n",
    "    \n",
    "    den2_ssd.yaxis.set_ticks([])\n",
    "    den2_300.yaxis.set_ticks([])\n",
    "\n",
    "    tem_ssd.set_xscale('log')\n",
    "    pre_ssd.set_xscale('log')\n",
    "    den_ssd.set_xscale('log')\n",
    "    tem_300.set_xscale('log')\n",
    "    pre_300.set_xscale('log')\n",
    "    den_300.set_xscale('log')\n",
    "    \n",
    "    pre_ssd.set_yscale('log')\n",
    "    den_ssd.set_yscale('log')\n",
    "    pre_300.set_yscale('log')\n",
    "    den_300.set_yscale('log')\n",
    "\n",
    "    tem_ssd.set_xlim(3e+1, 2e-10)\n",
    "    pre_ssd.set_xlim(tem_ssd.get_xlim())\n",
    "    den_ssd.set_xlim(tem_ssd.get_xlim())\n",
    "    tem_300.set_xlim(tem_ssd.get_xlim())\n",
    "    pre_300.set_xlim(tem_ssd.get_xlim())\n",
    "    den_300.set_xlim(tem_ssd.get_xlim())\n",
    "    \n",
    "    tem_ssd.set_ylim(3000, 10000)\n",
    "    tem_300.set_ylim(3000, 10000)\n",
    "\n",
    "    tem_ssd.yaxis.set_minor_locator(AutoMinorLocator(4))\n",
    "    tem_300.yaxis.set_minor_locator(AutoMinorLocator(4))\n",
    "\n",
    "    tem_ssd.set_ylabel('Temperature, K')\n",
    "    tem_300.set_ylabel('Temperature, K')\n",
    "    \n",
    "    pre_ssd.set_ylabel('Pressure, g / cm / s$^2$')\n",
    "    pre_300.set_ylabel('Pressure, g / cm / s$^2$')\n",
    "\n",
    "    den_ssd.set_ylabel(r'Density, g / cm / s$^2$')\n",
    "    den_300.set_ylabel(r'Density, g / cm / s$^2$')\n",
    "    \n",
    "    den2_ssd.set_ylabel('SSD')\n",
    "    den2_300.set_ylabel('300G')\n",
    "    \n",
    "    tem_300.set_xlabel(r'$\\tau_\\mathrm{Ross}$')\n",
    "    pre_300.set_xlabel(r'$\\tau_\\mathrm{Ross}$')\n",
    "    den_300.set_xlabel(r'$\\tau_\\mathrm{Ross}$')\n",
    "    \n",
    "    tem_ssd.legend(framealpha = 1, loc = 1, handletextpad = 1, prop = {'size': 7.5})\n",
    "\n",
    "plt.savefig('intro_img_2_tpd.pdf', bbox_inches = 'tight')\n",
    "\n",
    "plt.close('all')"
   ]
  }
 ],
 "metadata": {
  "kernelspec": {
   "display_name": "Python 3",
   "language": "python",
   "name": "python3"
  },
  "language_info": {
   "codemirror_mode": {
    "name": "ipython",
    "version": 3
   },
   "file_extension": ".py",
   "mimetype": "text/x-python",
   "name": "python",
   "nbconvert_exporter": "python",
   "pygments_lexer": "ipython3",
   "version": "3.6.13"
  }
 },
 "nbformat": 4,
 "nbformat_minor": 5
}
